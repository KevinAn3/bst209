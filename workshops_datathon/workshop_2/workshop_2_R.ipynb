{
  "nbformat": 4,
  "nbformat_minor": 0,
  "metadata": {
    "colab": {
      "provenance": []
    },
    "kernelspec": {
      "name": "ir",
      "display_name": "R"
    },
    "language_info": {
      "name": "R"
    }
  },
  "cells": [
    {
      "cell_type": "markdown",
      "source": [
        "# Workshop 2: Clinical Variables Selection & Feature Engineering"
      ],
      "metadata": {
        "id": "M65WOuF6u62h"
      }
    },
    {
      "cell_type": "markdown",
      "source": [
        "# 🎯 Workshop Goals\n",
        "The goal of this workshop is to provide participants with a deep understanding of data preprocessing in the data science workflow. Specifically, by the end of this workshop, participants should be able to:\n",
        "\n",
        "1. **Understand the importance of Data Preprocessing Techniques**: Understanding thes significance of data preprocessing in the data science workflow. This includes to be able to apply common techniques such as cleaning, normalization, transformation, and reduction of data. This also includes handling missing data, outliers, skewed data, and data with different scales.\n",
        "\n",
        "3. **Familiarize with Data Pre-processing Techniques**: such as feature scaling, dimensionality reduction, and feature engineering.\n",
        "\n",
        "4. **Apply data pre-processing techniques**: This involved the practical application of data preprocessing techniques to real-world datasets and to be able to evaluate the impact of different preprocessing techniques on machine learning model performance.\n",
        "\n",
        "Be aware of the potential biases that can be introduced in data preprocessing, and how to identify and mitigate them.\n",
        "Throughout the workshop, participants will engage in hands-on activities, case studies, and real-world examples. They will work in groups to apply the concepts learned to real datasets, and engage in discussions to share their experiences and insights. By the end of the workshop, participants should have gained a solid understanding of data preprocessing techniques and their importance in the data science workflow, and be able to apply these techniques to improve the performance of machine learning models."
      ],
      "metadata": {
        "id": "p-DviQlnd7vT"
      }
    },
    {
      "cell_type": "markdown",
      "source": [
        "# ✏️ Expected Deliverables\n",
        "\n",
        "1. A report or dashboard summarizing the results of EDA, including visualizations and statistical summaries of the data distribution and correlations.\n",
        "\n",
        "2. A set of code scripts or pipelines that automate the data preprocessing process, making it easier and more efficient to apply these techniques to future datasets.\n",
        "\n",
        "3. A cleaned dataset that has undergone preprocessing techniques such as removal of duplicates, handling missing data, and dealing with outliers. The cleaned dataset should be ready to be fed into machine learning models."
      ],
      "metadata": {
        "id": "lHt_KgdnGilV"
      }
    },
    {
      "cell_type": "markdown",
      "source": [
        "# ❗ Highlighted Pitfall(s)\n",
        "1. Make sure to apply preprocessing steps only to the training data and avoid using information from the validation set to prevent data leakage.\n",
        "\n",
        "2. Check for potential biases that could be introduced or amplified by preprocessing techniques, and evaluate the impact of these techniques on different subgroups of the data.\n",
        "\n",
        "3. Carefully evaluate the appropriateness of different preprocessing techniques for a given dataset and ensure that the techniques are applied correctly to avoid incorrect preprocessing that could lead to poor model performance or incorrect conclusions about the data."
      ],
      "metadata": {
        "id": "EnR2K_EKGrEV"
      }
    },
    {
      "cell_type": "markdown",
      "source": [
        "## **1.  Setup environment**\n",
        "---"
      ],
      "metadata": {
        "id": "EffSajZhq7lo"
      }
    },
    {
      "cell_type": "code",
      "source": [
        "#install.packages(c('caret', 'mlbench', 'ggplot2', 'vioplot', 'tableone', 'naniar'))"
      ],
      "metadata": {
        "id": "cru6h-0BOW0g"
      },
      "execution_count": 1,
      "outputs": []
    },
    {
      "cell_type": "code",
      "source": [
        "library(dplyr)\n",
        "library(caret)\n",
        "library(ggplot2)\n",
        "library(vioplot)\n",
        "library(tableone)\n",
        "library(naniar)"
      ],
      "metadata": {
        "colab": {
          "base_uri": "https://localhost:8080/"
        },
        "id": "FuJbvV3E5OmD",
        "outputId": "37b07259-9820-4109-cb37-6471eab1f4f5"
      },
      "execution_count": 2,
      "outputs": [
        {
          "output_type": "stream",
          "name": "stderr",
          "text": [
            "\n",
            "Attaching package: ‘dplyr’\n",
            "\n",
            "\n",
            "The following objects are masked from ‘package:stats’:\n",
            "\n",
            "    filter, lag\n",
            "\n",
            "\n",
            "The following objects are masked from ‘package:base’:\n",
            "\n",
            "    intersect, setdiff, setequal, union\n",
            "\n",
            "\n",
            "Loading required package: ggplot2\n",
            "\n",
            "Loading required package: lattice\n",
            "\n",
            "Loading required package: sm\n",
            "\n",
            "Package 'sm', version 2.2-5.7: type help(sm) for summary information\n",
            "\n",
            "Loading required package: zoo\n",
            "\n",
            "\n",
            "Attaching package: ‘zoo’\n",
            "\n",
            "\n",
            "The following objects are masked from ‘package:base’:\n",
            "\n",
            "    as.Date, as.Date.numeric\n",
            "\n",
            "\n"
          ]
        }
      ]
    },
    {
      "cell_type": "markdown",
      "source": [
        " ## **2. Data Analysis**\n",
        "---\n",
        "\n",
        "\n",
        "Once we understand the problem, we have formed a multidisciplinary team, formulated the research question,  hypothesis, we have to start working with the data. What data do we have? How do they look? What distributions do they have?\n",
        "\n",
        "Let's remember that in data science, data is the most important thing, and whether or not we can solve a problem depends on the data quality. At the same time, understanding the data also helps us to have a clearer vision of what we are facing and in case the data is not very good, we can at least fix it.\n",
        "\n",
        "Specifically, understanding the problem and the data are the essential phases in a data science project. An error in this phase is much more critical than an error in the modeling and evaluation phases. We must bear in mind that machine learning is not a magical tool that solves any type of problem, but rather a mathematical/statistical tool that learns from what we teach it, therefore if the data has biases, the model will also have them."
      ],
      "metadata": {
        "id": "wsZkeFBG08pU"
      }
    },
    {
      "cell_type": "markdown",
      "source": [
        "### Read the dataset\n",
        "\n",
        "Let's asume that you already have the dataset of [workshop 1](https://github.com/CriticalDatathon/workshops/blob/main/solutions/workshop_1.py):"
      ],
      "metadata": {
        "id": "Hzzgjobkzz1u"
      }
    },
    {
      "cell_type": "markdown",
      "source": [
        "###### ✏️ Read the dataset and use the function null_values to see which columns has missing data."
      ],
      "metadata": {
        "id": "ewfSG4dLHFxK"
      }
    },
    {
      "cell_type": "code",
      "source": [
        "# Dataset Path:\n",
        "PATH <- 'workshop_1.csv' #@param {type:\"string\"}"
      ],
      "metadata": {
        "id": "yVBKvHF90OYZ"
      },
      "execution_count": 3,
      "outputs": []
    },
    {
      "cell_type": "code",
      "source": [
        "# Function: calculate_mean\n",
        "# Description: Calculates the mean of a numeric vector.\n",
        "# \n",
        "# Parameters:\n",
        "#   x (numeric): Input vector for which the mean needs to be calculated.\n",
        "# \n",
        "# Returns:\n",
        "#   The mean value of the input vector.\n",
        "\n",
        "null_values <- function(df) {\n",
        "\n",
        "  # Check if there are null values in the dataframe\n",
        "  nulos <- anyNA(df)\n",
        "\n",
        "  if (!nulos)\n",
        "  {\n",
        "    print(\"There aren't null values in the dataframe\")\n",
        "  } \n",
        "  else \n",
        "  {\n",
        "    # Print columns with null values\n",
        "    print(\"Null values:\")\n",
        "    print(colnames(df)[colSums(is.na(df)) > 0])\n",
        "  }\n",
        "}\n"
      ],
      "metadata": {
        "id": "T5NLdL3K1cib"
      },
      "execution_count": 4,
      "outputs": []
    },
    {
      "cell_type": "code",
      "source": [
        "# Read file\n",
        "df <- read.csv(PATH)\n",
        "cat(paste(\"The dataset has\", nrow(df), \"rows and\", ncol(df), \"columns\\n\"))\n",
        "\n",
        "# Check if there are null values\n",
        "null_values(df)\n",
        "\n",
        "# Print first 5 rows\n",
        "head(df)"
      ],
      "metadata": {
        "colab": {
          "base_uri": "https://localhost:8080/",
          "height": 1000
        },
        "id": "vwAy1XAHR3Gq",
        "outputId": "c2d38713-d945-406f-adec-d67f6a8145cd"
      },
      "execution_count": 5,
      "outputs": [
        {
          "output_type": "stream",
          "name": "stdout",
          "text": [
            "The dataset has 20041 rows and 138 columns\n",
            "[1] \"Null values:\"\n",
            " [1] \"weight\"                         \"height\"                        \n",
            " [3] \"BMI\"                            \"delta_vent_start\"              \n",
            " [5] \"delta_FiO2\"                     \"FiO2\"                          \n",
            " [7] \"delta_rrt\"                      \"delta_vp_start\"                \n",
            " [9] \"norepinephrine_equivalent_dose\" \"delta_sofa_coag\"               \n",
            "[11] \"sofa_coag\"                      \"delta_sofa_liver\"              \n",
            "[13] \"sofa_liver\"                     \"delta_sofa_cns\"                \n",
            "[15] \"sofa_cns\"                       \"delta_sofa_renal\"              \n",
            "[17] \"sofa_renal\"                     \"delta_sofa_resp\"               \n",
            "[19] \"sofa_resp\"                      \"delta_hemoglobin\"              \n",
            "[21] \"hemoglobin\"                     \"delta_hematocrit\"              \n",
            "[23] \"hematocrit\"                     \"delta_mch\"                     \n",
            "[25] \"mch\"                            \"delta_mchc\"                    \n",
            "[27] \"mchc\"                           \"delta_mcv\"                     \n",
            "[29] \"mcv\"                            \"delta_platelet\"                \n",
            "[31] \"platelet\"                       \"delta_rbc\"                     \n",
            "[33] \"rbc\"                            \"delta_rdw\"                     \n",
            "[35] \"rdw\"                            \"delta_wbc\"                     \n",
            "[37] \"wbc\"                            \"delta_d_dimer\"                 \n",
            "[39] \"d_dimer\"                        \"delta_fibrinogen\"              \n",
            "[41] \"fibrinogen\"                     \"delta_thrombin\"                \n",
            "[43] \"thrombin\"                       \"delta_inr\"                     \n",
            "[45] \"inr\"                            \"delta_pt\"                      \n",
            "[47] \"pt\"                             \"delta_ptt\"                     \n",
            "[49] \"ptt\"                            \"delta_alt\"                     \n",
            "[51] \"alt\"                            \"delta_alp\"                     \n",
            "[53] \"alp\"                            \"delta_ast\"                     \n",
            "[55] \"ast\"                            \"delta_bilirubin_total\"         \n",
            "[57] \"bilirubin_total\"                \"delta_bilirubin_direct\"        \n",
            "[59] \"bilirubin_direct\"               \"delta_bilirubin_indirect\"      \n",
            "[61] \"bilirubin_indirect\"             \"delta_ck_cpk\"                  \n",
            "[63] \"ck_cpk\"                         \"delta_ck_mb\"                   \n",
            "[65] \"ck_mb\"                          \"delta_ggt\"                     \n",
            "[67] \"ggt\"                            \"delta_ld_ldh\"                  \n",
            "[69] \"ld_ldh\"                         \"delta_albumin\"                 \n",
            "[71] \"albumin\"                        \"delta_aniongap\"                \n",
            "[73] \"aniongap\"                       \"delta_bicarbonate\"             \n",
            "[75] \"bicarbonate\"                    \"delta_bun\"                     \n",
            "[77] \"bun\"                            \"delta_calcium\"                 \n",
            "[79] \"calcium\"                        \"delta_chloride\"                \n",
            "[81] \"chloride\"                       \"delta_creatinine\"              \n",
            "[83] \"creatinine\"                     \"delta_glucose_lab\"             \n",
            "[85] \"glucose_lab\"                    \"delta_sodium\"                  \n",
            "[87] \"sodium\"                         \"delta_potassium\"               \n",
            "[89] \"potassium\"                      \"delta_ph\"                      \n",
            "[91] \"ph\"                             \"delta_lactate\"                 \n",
            "[93] \"lactate\"                        \"delta_temperature\"             \n",
            "[95] \"temperature\"                    \"delta_glucose\"                 \n",
            "[97] \"glucose\"                        \"delta_heart_rhythm\"            \n"
          ]
        },
        {
          "output_type": "display_data",
          "data": {
            "text/html": [
              "<table class=\"dataframe\">\n",
              "<caption>A data.frame: 6 × 138</caption>\n",
              "<thead>\n",
              "\t<tr><th></th><th scope=col>subject_id</th><th scope=col>stay_id</th><th scope=col>SaO2_timestamp</th><th scope=col>SaO2</th><th scope=col>delta_SpO2</th><th scope=col>SpO2</th><th scope=col>hidden_hypoxemia</th><th scope=col>hadm_id</th><th scope=col>gender</th><th scope=col>sex_female</th><th scope=col>⋯</th><th scope=col>delta_mbp</th><th scope=col>mbp</th><th scope=col>delta_resp_rate</th><th scope=col>resp_rate</th><th scope=col>delta_temperature</th><th scope=col>temperature</th><th scope=col>delta_glucose</th><th scope=col>glucose</th><th scope=col>delta_heart_rhythm</th><th scope=col>heart_rhythm</th></tr>\n",
              "\t<tr><th></th><th scope=col>&lt;int&gt;</th><th scope=col>&lt;int&gt;</th><th scope=col>&lt;chr&gt;</th><th scope=col>&lt;dbl&gt;</th><th scope=col>&lt;int&gt;</th><th scope=col>&lt;int&gt;</th><th scope=col>&lt;int&gt;</th><th scope=col>&lt;int&gt;</th><th scope=col>&lt;chr&gt;</th><th scope=col>&lt;int&gt;</th><th scope=col>⋯</th><th scope=col>&lt;int&gt;</th><th scope=col>&lt;dbl&gt;</th><th scope=col>&lt;dbl&gt;</th><th scope=col>&lt;dbl&gt;</th><th scope=col>&lt;dbl&gt;</th><th scope=col>&lt;dbl&gt;</th><th scope=col>&lt;dbl&gt;</th><th scope=col>&lt;dbl&gt;</th><th scope=col>&lt;dbl&gt;</th><th scope=col>&lt;chr&gt;</th></tr>\n",
              "</thead>\n",
              "<tbody>\n",
              "\t<tr><th scope=row>1</th><td>10001884</td><td>37510196</td><td>2131-01-12 21:04:00</td><td>90</td><td> -4</td><td> 89</td><td>0</td><td>26184834</td><td>F</td><td>1</td><td>⋯</td><td> -3</td><td>96.0</td><td> -4</td><td>19.5</td><td> -64</td><td>36.72</td><td>445</td><td>199</td><td> -4</td><td>SR (Sinus Rhythm)      </td></tr>\n",
              "\t<tr><th scope=row>2</th><td>10002013</td><td>39060235</td><td>2160-05-18 16:03:00</td><td>99</td><td>  0</td><td> 99</td><td>0</td><td>23581541</td><td>F</td><td>1</td><td>⋯</td><td> -3</td><td>86.5</td><td> -2</td><td>14.0</td><td>  -3</td><td>36.90</td><td>  0</td><td>155</td><td> -3</td><td>SR (Sinus Rhythm)      </td></tr>\n",
              "\t<tr><th scope=row>3</th><td>10002428</td><td>38875437</td><td>2156-04-20 00:46:00</td><td>97</td><td>  0</td><td>100</td><td>0</td><td>28662225</td><td>F</td><td>1</td><td>⋯</td><td> -1</td><td>68.0</td><td> -1</td><td>18.0</td><td>  14</td><td>36.94</td><td>164</td><td>163</td><td> 14</td><td>SR (Sinus Rhythm)      </td></tr>\n",
              "\t<tr><th scope=row>4</th><td>10002428</td><td>38875437</td><td>2156-04-21 02:20:00</td><td>98</td><td> -3</td><td>100</td><td>0</td><td>28662225</td><td>F</td><td>1</td><td>⋯</td><td> -5</td><td>70.0</td><td> -5</td><td>23.0</td><td> 100</td><td>37.33</td><td>-10</td><td>135</td><td>-20</td><td>ST (Sinus Tachycardia) </td></tr>\n",
              "\t<tr><th scope=row>5</th><td>10002760</td><td>31831386</td><td>2141-04-20 16:10:00</td><td>97</td><td>-10</td><td> 99</td><td>0</td><td>28094813</td><td>M</td><td>0</td><td>⋯</td><td>-10</td><td>70.0</td><td>-10</td><td>16.0</td><td>1190</td><td>36.39</td><td>  0</td><td>107</td><td>-10</td><td>SR (Sinus Rhythm)      </td></tr>\n",
              "\t<tr><th scope=row>6</th><td>10002760</td><td>31831386</td><td>2141-04-21 02:04:00</td><td>99</td><td> -4</td><td>100</td><td>0</td><td>28094813</td><td>M</td><td>0</td><td>⋯</td><td> -4</td><td>81.0</td><td> -4</td><td>17.0</td><td> 596</td><td>36.39</td><td>  0</td><td> 97</td><td> -4</td><td>SR (Sinus Rhythm)      </td></tr>\n",
              "</tbody>\n",
              "</table>\n"
            ],
            "text/markdown": "\nA data.frame: 6 × 138\n\n| <!--/--> | subject_id &lt;int&gt; | stay_id &lt;int&gt; | SaO2_timestamp &lt;chr&gt; | SaO2 &lt;dbl&gt; | delta_SpO2 &lt;int&gt; | SpO2 &lt;int&gt; | hidden_hypoxemia &lt;int&gt; | hadm_id &lt;int&gt; | gender &lt;chr&gt; | sex_female &lt;int&gt; | ⋯ ⋯ | delta_mbp &lt;int&gt; | mbp &lt;dbl&gt; | delta_resp_rate &lt;dbl&gt; | resp_rate &lt;dbl&gt; | delta_temperature &lt;dbl&gt; | temperature &lt;dbl&gt; | delta_glucose &lt;dbl&gt; | glucose &lt;dbl&gt; | delta_heart_rhythm &lt;dbl&gt; | heart_rhythm &lt;chr&gt; |\n|---|---|---|---|---|---|---|---|---|---|---|---|---|---|---|---|---|---|---|---|---|---|\n| 1 | 10001884 | 37510196 | 2131-01-12 21:04:00 | 90 |  -4 |  89 | 0 | 26184834 | F | 1 | ⋯ |  -3 | 96.0 |  -4 | 19.5 |  -64 | 36.72 | 445 | 199 |  -4 | SR (Sinus Rhythm)       |\n| 2 | 10002013 | 39060235 | 2160-05-18 16:03:00 | 99 |   0 |  99 | 0 | 23581541 | F | 1 | ⋯ |  -3 | 86.5 |  -2 | 14.0 |   -3 | 36.90 |   0 | 155 |  -3 | SR (Sinus Rhythm)       |\n| 3 | 10002428 | 38875437 | 2156-04-20 00:46:00 | 97 |   0 | 100 | 0 | 28662225 | F | 1 | ⋯ |  -1 | 68.0 |  -1 | 18.0 |   14 | 36.94 | 164 | 163 |  14 | SR (Sinus Rhythm)       |\n| 4 | 10002428 | 38875437 | 2156-04-21 02:20:00 | 98 |  -3 | 100 | 0 | 28662225 | F | 1 | ⋯ |  -5 | 70.0 |  -5 | 23.0 |  100 | 37.33 | -10 | 135 | -20 | ST (Sinus Tachycardia)  |\n| 5 | 10002760 | 31831386 | 2141-04-20 16:10:00 | 97 | -10 |  99 | 0 | 28094813 | M | 0 | ⋯ | -10 | 70.0 | -10 | 16.0 | 1190 | 36.39 |   0 | 107 | -10 | SR (Sinus Rhythm)       |\n| 6 | 10002760 | 31831386 | 2141-04-21 02:04:00 | 99 |  -4 | 100 | 0 | 28094813 | M | 0 | ⋯ |  -4 | 81.0 |  -4 | 17.0 |  596 | 36.39 |   0 |  97 |  -4 | SR (Sinus Rhythm)       |\n\n",
            "text/latex": "A data.frame: 6 × 138\n\\begin{tabular}{r|lllllllllllllllllllll}\n  & subject\\_id & stay\\_id & SaO2\\_timestamp & SaO2 & delta\\_SpO2 & SpO2 & hidden\\_hypoxemia & hadm\\_id & gender & sex\\_female & ⋯ & delta\\_mbp & mbp & delta\\_resp\\_rate & resp\\_rate & delta\\_temperature & temperature & delta\\_glucose & glucose & delta\\_heart\\_rhythm & heart\\_rhythm\\\\\n  & <int> & <int> & <chr> & <dbl> & <int> & <int> & <int> & <int> & <chr> & <int> & ⋯ & <int> & <dbl> & <dbl> & <dbl> & <dbl> & <dbl> & <dbl> & <dbl> & <dbl> & <chr>\\\\\n\\hline\n\t1 & 10001884 & 37510196 & 2131-01-12 21:04:00 & 90 &  -4 &  89 & 0 & 26184834 & F & 1 & ⋯ &  -3 & 96.0 &  -4 & 19.5 &  -64 & 36.72 & 445 & 199 &  -4 & SR (Sinus Rhythm)      \\\\\n\t2 & 10002013 & 39060235 & 2160-05-18 16:03:00 & 99 &   0 &  99 & 0 & 23581541 & F & 1 & ⋯ &  -3 & 86.5 &  -2 & 14.0 &   -3 & 36.90 &   0 & 155 &  -3 & SR (Sinus Rhythm)      \\\\\n\t3 & 10002428 & 38875437 & 2156-04-20 00:46:00 & 97 &   0 & 100 & 0 & 28662225 & F & 1 & ⋯ &  -1 & 68.0 &  -1 & 18.0 &   14 & 36.94 & 164 & 163 &  14 & SR (Sinus Rhythm)      \\\\\n\t4 & 10002428 & 38875437 & 2156-04-21 02:20:00 & 98 &  -3 & 100 & 0 & 28662225 & F & 1 & ⋯ &  -5 & 70.0 &  -5 & 23.0 &  100 & 37.33 & -10 & 135 & -20 & ST (Sinus Tachycardia) \\\\\n\t5 & 10002760 & 31831386 & 2141-04-20 16:10:00 & 97 & -10 &  99 & 0 & 28094813 & M & 0 & ⋯ & -10 & 70.0 & -10 & 16.0 & 1190 & 36.39 &   0 & 107 & -10 & SR (Sinus Rhythm)      \\\\\n\t6 & 10002760 & 31831386 & 2141-04-21 02:04:00 & 99 &  -4 & 100 & 0 & 28094813 & M & 0 & ⋯ &  -4 & 81.0 &  -4 & 17.0 &  596 & 36.39 &   0 &  97 &  -4 & SR (Sinus Rhythm)      \\\\\n\\end{tabular}\n",
            "text/plain": [
              "  subject_id stay_id  SaO2_timestamp      SaO2 delta_SpO2 SpO2 hidden_hypoxemia\n",
              "1 10001884   37510196 2131-01-12 21:04:00 90    -4         89  0               \n",
              "2 10002013   39060235 2160-05-18 16:03:00 99     0         99  0               \n",
              "3 10002428   38875437 2156-04-20 00:46:00 97     0        100  0               \n",
              "4 10002428   38875437 2156-04-21 02:20:00 98    -3        100  0               \n",
              "5 10002760   31831386 2141-04-20 16:10:00 97   -10         99  0               \n",
              "6 10002760   31831386 2141-04-21 02:04:00 99    -4        100  0               \n",
              "  hadm_id  gender sex_female ⋯ delta_mbp mbp  delta_resp_rate resp_rate\n",
              "1 26184834 F      1          ⋯  -3       96.0  -4             19.5     \n",
              "2 23581541 F      1          ⋯  -3       86.5  -2             14.0     \n",
              "3 28662225 F      1          ⋯  -1       68.0  -1             18.0     \n",
              "4 28662225 F      1          ⋯  -5       70.0  -5             23.0     \n",
              "5 28094813 M      0          ⋯ -10       70.0 -10             16.0     \n",
              "6 28094813 M      0          ⋯  -4       81.0  -4             17.0     \n",
              "  delta_temperature temperature delta_glucose glucose delta_heart_rhythm\n",
              "1  -64              36.72       445           199      -4               \n",
              "2   -3              36.90         0           155      -3               \n",
              "3   14              36.94       164           163      14               \n",
              "4  100              37.33       -10           135     -20               \n",
              "5 1190              36.39         0           107     -10               \n",
              "6  596              36.39         0            97      -4               \n",
              "  heart_rhythm           \n",
              "1 SR (Sinus Rhythm)      \n",
              "2 SR (Sinus Rhythm)      \n",
              "3 SR (Sinus Rhythm)      \n",
              "4 ST (Sinus Tachycardia) \n",
              "5 SR (Sinus Rhythm)      \n",
              "6 SR (Sinus Rhythm)      "
            ]
          },
          "metadata": {}
        }
      ]
    },
    {
      "cell_type": "markdown",
      "source": [
        " ## **3. Understand your Data**\n",
        "---\n"
      ],
      "metadata": {
        "id": "sKiLCcTe_1s2"
      }
    },
    {
      "cell_type": "markdown",
      "source": [
        "### Understand the variables:\n",
        "\n",
        "The first step is to understand what variables your dataset has and how these variables are distributed. The columns and data types are:\n",
        "\n",
        "Discuss with your team about the problem and what variables are needed \n",
        "\n",
        "\n",
        "\n",
        "| name                           | type    | description                                                                                                |\n",
        "|:-------------------------------|:--------|:-----------------------------------------------------------------------------------------------------------|\n",
        "| subject_id                     | int64   | Unique identifier for each patient                                                                         |\n",
        "| stay_id                        | int64   | Unique identifier for each hospital stay                                                                   |\n",
        "| SaO2_timestamp                 | object  | Timestamp for SaO2 measurement                                                                             |\n",
        "| SaO2                           | float64 | Arterial oxygen saturation                                                                                 |\n",
        "| delta_SpO2                     | int64   | Time offset (in minutes) in the measurement of peripheral oxygen saturation                                |\n",
        "| SpO2                           | int64   | Peripheral oxygen saturation                                                                               |\n",
        "| hidden_hypoxemia               | int64   | Indicates if the patient had hypoxemia without clinical signs                                              |\n",
        "| hadm_id                        | int64   | Unique identifier for each hospital admission                                                              |\n",
        "| gender                         | object  | Gender of the patient                                                                                      |\n",
        "| sex_female                     | int64   | Indicates if the patient is female                                                                         |\n",
        "| anchor_age                     | int64   | Age of the patient at the time of admission                                                                |\n",
        "| race                           | object  | Race of the patient                                                                                        |\n",
        "| race_group                     | object  | Grouping of race into broader categories                                                                   |\n",
        "| language                       | object  | Primary language spoken by the patient                                                                     |\n",
        "| insurance                      | object  | Type of insurance of the patient                                                                           |\n",
        "| weight                         | float64 | Weight of the patient in kilograms                                                                         |\n",
        "| height                         | float64 | Height of the patient in centimeters                                                                       |\n",
        "| BMI                            | float64 | Body Mass Index of the patient                                                                             |\n",
        "| anchor_year_group              | object  | Grouping of admission year into broader categories                                                         |\n",
        "| first_hosp_stay                | bool    | Indicates if this is the first hospital stay for the patient                                               |\n",
        "| first_icu_stay                 | bool    | Indicates if this is the first ICU stay for the patient                                                    |\n",
        "| icustay_seq                    | int64   | Sequence number of ICU stay for the patient                                                                |\n",
        "| admittime                      | object  | Timestamp for hospital admission                                                                           |\n",
        "| dischtime                      | object  | Timestamp for hospital discharge                                                                           |\n",
        "| icu_intime                     | object  | Timestamp for ICU admission                                                                                |\n",
        "| icu_outtime                    | object  | Timestamp for ICU discharge                                                                                |\n",
        "| los_hospital                   | int64   | Length of hospital stay in days                                                                            |\n",
        "| los_icu                        | float64 | Length of ICU stay in days                                                                                 |\n",
        "| CCI                            | int64   | Charlson Comorbidity Index                                                                                 |\n",
        "| SOFA_admission                 | int64   | Sequential Organ Failure Assessment (SOFA) score at admission                                              |\n",
        "| mortality_in                   | int64   | Indicates if the patient died during the hospital stay                                                     |\n",
        "| delta_vent_start               | float64 | Time since ventilation started (in minutes) at the time of the measurement                                 |\n",
        "| ventilation_status             | object  | Indicates if the patient was on mechanical ventilation                                                     |\n",
        "| invasive_vent                  | int64   | Indicates if the patient was on invasive mechanical ventilation                                            |\n",
        "| delta_FiO2                     | float64 | Time offset (in minutes) in the measurement of inspired oxygen (FiO2)                                      |\n",
        "| FiO2                           | float64 | Fraction of inspired oxygen                                                                                |\n",
        "| delta_rrt                      | float64 | Time since renal replacement therapy (in minutes) at the time of the measurement                           |\n",
        "| rrt                            | int64   | Indicates if the patient was on renal replacement therapy                                                  |\n",
        "| delta_vp_start                 | float64 | Time since vasopressor therapy started (in minutes) at the time of the measurement                         |\n",
        "| norepinephrine_equivalent_dose | float64 | Dose of norepinephrine equivalent to other vasopressors (in mcg/kg/min)                                    |\n",
        "| delta_sofa_coag                | float64 | Time offset (in minutes) in the measurement of SOFA score for coagulation from the previous measurement    |\n",
        "| sofa_coag                      | float64 | SOFA score for coagulation                                                                                 |\n",
        "| delta_sofa_liver               | float64 | Time offset (in minutes) in the measurement of SOFA score for liver from the previous measurement          |\n",
        "| sofa_liver                     | float64 | SOFA score for liver                                                                                       |\n",
        "| delta_sofa_cv                  | int64   | Time offset (in minutes) in the measurement of SOFA score for cardiovascular from the previous measurement |\n",
        "| sofa_cv                        | int64   | Cardiovascular component of Sequential Organ Failure Assessment (SOFA) score                               |\n",
        "| delta_sofa_cns                 | float64 | Time offset (in minutes) in the measurement of central nervous system component of SOFA                    |\n",
        "| sofa_cns                       | float64 | Central nervous system component of SOFA score                                                             |\n",
        "| delta_sofa_renal               | float64 | Time difference between the SaO2 measurement and the timestamp of the SaO2 measurement                     |\n",
        "| sofa_renal                     | float64 | Renal component of SOFA score                                                                              |\n",
        "| delta_sofa_resp                | float64 | Time offset (in minutes) in the measurement of respiratory component of SOFA                               |\n",
        "| sofa_resp                      | float64 | Respiratory component of SOFA score                                                                        |\n",
        "| delta_hemoglobin               | float64 | Time offset (in minutes) in the measurement of hemoglobin level                                            |\n",
        "| hemoglobin                     | float64 | Hemoglobin level                                                                                           |\n",
        "| delta_hematocrit               | float64 | Time offset (in minutes) in the measurement of Change in hematocrit level                                  |\n",
        "| hematocrit                     | float64 | Hematocrit level                                                                                           |\n",
        "| delta_mch                      | float64 | Time offset (in minutes) in the measurement of mean corpuscular hemoglobin                                 |\n",
        "| mch                            | float64 | Mean corpuscular hemoglobin                                                                                |\n",
        "| delta_mchc                     | float64 | Time offset (in minutes) in the measurement of mean corpuscular hemoglobin concentration                   |\n",
        "| mchc                           | float64 | Mean corpuscular hemoglobin concentration                                                                  |\n",
        "| delta_mcv                      | float64 | Time offset (in minutes) in the measurement of mean corpuscular volume                                     |\n",
        "| mcv                            | float64 | Mean corpuscular volume                                                                                    |\n",
        "| delta_platelet                 | float64 | Time offset (in minutes) in the measurement of platelet count                                              |\n",
        "| platelet                       | float64 | Platelet count                                                                                             |\n",
        "| delta_rbc                      | float64 | Time offset (in minutes) in the measurement of red blood cell count                                        |\n",
        "| rbc                            | float64 | Red blood cell count                                                                                       |\n",
        "| delta_rdw                      | float64 | Time offset (in minutes) in the measurement of Change in red cell distribution width                       |\n",
        "| rdw                            | float64 | Red cell distribution width                                                                                |\n",
        "| delta_wbc                      | float64 | Time offset (in minutes) in the measurement of white blood cell count                                      |\n",
        "| wbc                            | float64 | White blood cell count                                                                                     |\n",
        "| delta_d_dimer                  | float64 | Time offset (in minutes) in the measurement of Change in D-dimer                                           |\n",
        "| d_dimer                        | float64 | D-dimer level                                                                                              |\n",
        "| delta_fibrinogen               | float64 | Time offset (in minutes) in the measurement of fibrinogen level                                            |\n",
        "| fibrinogen                     | float64 | Fibrinogen level                                                                                           |\n",
        "| delta_thrombin                 | float64 | Time offset (in minutes) in the measurement of thrombin time                                               |\n",
        "| thrombin                       | float64 | Thrombin time                                                                                              |\n",
        "| delta_inr                      | float64 | Time offset (in minutes) in the measurement of Change in international normalized ratio (INR)              |\n",
        "| inr                            | float64 | International normalized ratio (INR)                                                                       |\n",
        "| delta_pt                       | float64 | Time offset (in minutes) in the measurement of prothrombin time (PT)                                       |\n",
        "| pt                             | float64 | Prothrombin time (PT)                                                                                      |\n",
        "| delta_ptt                      | float64 | Time offset (in minutes) in the measurement of partial thromboplastin time (PTT)                           |\n",
        "| ptt                            | float64 | Partial thromboplastin time (PTT)                                                                          |\n",
        "| delta_alt                      | float64 | Time offset (in minutes) in the measurement of alanine transaminase (ALT) level                            |\n",
        "| alt                            | float64 | Alanine transaminase (ALT) level                                                                           |\n",
        "| delta_alp                      | float64 | Time offset (in minutes) in the measurement of hhange in alkaline phosphatase (ALP) level                  |\n",
        "| alp                            | float64 | Alkaline phosphatase (ALP) level                                                                           |\n",
        "| delta_ast                      | float64 | Time offset (in minutes) in the measurement of aspartate transaminase (AST) level                          |\n",
        "| ast                            | float64 | Aspartate transaminase (AST) level                                                                         |\n",
        "| delta_bilirubin_total          | float64 | Time offset (in minutes) in the measurement of total bilirubin level                                       |\n",
        "| bilirubin_total                | float64 | Total bilirubin level                                                                                      |\n",
        "| delta_bilirubin_direct         | float64 | Time offset (in minutes) in the measurement of  direct bilirubin level                                     |\n",
        "| bilirubin_direct               | float64 | Direct bilirubin level                                                                                     |\n",
        "| delta_bilirubin_indirect       | float64 | Time offset (in minutes) in the measurement of indirect bilirubin level                                    |\n",
        "| bilirubin_indirect             | float64 | Indirect bilirubin level                                                                                   |\n",
        "| delta_ck_cpk                   | float64 | Time offset (in minutes) in the measurement of  creatine kinase (CPK) level                                |\n",
        "| ck_cpk                         | float64 | Creatine kinase (CPK) level                                                                                |\n",
        "| delta_ck_mb                    | float64 | Time offset (in minutes) in the measurement of  creatine kinase MB (CK-MB) level                           |\n",
        "| ck_mb                          | float64 | Creatine kinase MB (CK-MB) level                                                                           |\n",
        "| delta_ggt                      | float64 | Time offset (in minutes) in the measurement of  gamma-glutamyl transferase (GGT) level                     |\n",
        "| ggt                            | float64 | Gamma-glutamyl transferase (GGT) level                                                                     |\n",
        "| delta_ld_ldh                   | float64 | Time offset (in minutes) in the measurement of  lactate dehydrogenase (LDH) level                          |\n",
        "| ld_ldh                         | float64 | Lactate dehydrogenase (LDH) level                                                                          |\n",
        "| delta_albumin                  | float64 | Time offset (in minutes) in the measurement of albumin level                                               |\n",
        "| albumin                        | float64 | Albumin level                                                                                              |\n",
        "| delta_aniongap                 | float64 | Time offset (in minutes) in the measurement of anion gap                                                   |\n",
        "| aniongap                       | float64 | Anion gap                                                                                                  |\n",
        "| delta_bicarbonate              | float64 | Time offset (in minutes) in the measurement of bicarbonate level                                           |\n",
        "| bicarbonate                    | float64 | Bicarbonate level                                                                                          |\n",
        "| delta_bun                      | float64 | Time offset (in minutes) in the measurement of blood urea nitrogen (BUN) level                             |\n",
        "| bun                            | float64 | Blood urea nitrogen (BUN) level                                                                            |\n",
        "| delta_calcium                  | float64 | Time offset (in minutes) in the measurement of calcium level                                               |\n",
        "| calcium                        | float64 | Calcium level                                                                                              |\n",
        "| delta_chloride                 | float64 | Time offset (in minutes) in the measurement of chloride level                                              |\n",
        "| chloride                       | float64 | Chloride level                                                                                             |\n",
        "| delta_creatinine               | float64 | Time offset (in minutes) in the measurement of creatinine level                                            |\n",
        "| creatinine                     | float64 | Creatinine level                                                                                           |\n",
        "| delta_glucose_lab              | float64 | Time offset (in minutes) in the measurement of glucose level from laboratory                               |\n",
        "| glucose_lab                    | float64 | Glucose level from laboratory measurement                                                                  |\n",
        "| delta_sodium                   | float64 | Time offset (in minutes) in the measurement of sodium level                                                |\n",
        "| sodium                         | float64 | Sodium level                                                                                               |\n",
        "| delta_potassium                | float64 | Time offset (in minutes) in the measurement of potassium level                                             |\n",
        "| potassium                      | float64 | Potassium level                                                                                            |\n",
        "| delta_ph                       | float64 | Time offset (in minutes) in the measurement of pH level                                                    |\n",
        "| ph                             | float64 | pH level                                                                                                   |\n",
        "| delta_lactate                  | float64 | Time offset (in minutes) in the measurement of lactate level                                               |\n",
        "| lactate                        | float64 | Lactate level                                                                                              |\n",
        "| delta_heart_rate               | int64   | Time offset (in minutes) in the measurement of  heart rate                                                 |\n",
        "| heart_rate                     | float64 | Heart rate                                                                                                 |\n",
        "| delta_mbp                      | int64   | Time offset (in minutes) in the measurement of mean blood pressure (MBP)                                   |\n",
        "| mbp                            | float64 | Mean blood pressure (MBP)                                                                                  |\n",
        "| delta_resp_rate                | float64 | Time offset (in minutes) in the measurement of respiratory rate                                            |\n",
        "| resp_rate                      | float64 | Respiratory rate                                                                                           |\n",
        "| delta_temperature              | float64 | Time offset (in minutes) in the measurement of body temperature                                            |\n",
        "| temperature                    | float64 | Body temperature                                                                                           |\n",
        "| delta_glucose                  | float64 | Time offset (in minutes) in the measurement of glucose level                                               |\n",
        "| glucose                        | float64 | Glucose level                                                                                              |\n",
        "| delta_heart_rhythm             | float64 | Time offset (in minutes) in the measurement of heart rhythm                                                |\n",
        "| heart_rhythm                   | object  | Heart rhythm                                                                                               |"
      ],
      "metadata": {
        "id": "zqwtcefTVxdh"
      }
    },
    {
      "cell_type": "markdown",
      "source": [
        "### Select you variables\n",
        "**Task:** To simplify the task we will use a reduced group of variables for the following analysis. Ideally you should decide with your groups which variables you consider to be really important.\n",
        "\n",
        "The variables should be selected:\n",
        "1. Always thinking about the question to solve and the hypothesis.\n",
        "2. Using the clinical experience of the members of the group and if possible supported by literature.\n",
        "3. Using mathematical and statistical methods."
      ],
      "metadata": {
        "id": "ZEzfCAqiVRx8"
      }
    },
    {
      "cell_type": "markdown",
      "source": [
        "###### ✏️ Select demographic variables:\n",
        "Due to the challenge we need some demographic information select the relevant columns:"
      ],
      "metadata": {
        "id": "npybroq6Ju2a"
      }
    },
    {
      "cell_type": "code",
      "source": [
        "# Patient main information\n",
        "patient_main_information <- c('subject_id', 'stay_id', 'gender', 'anchor_age', 'race_group', 'language', 'insurance', \n",
        "                     'SaO2_timestamp', 'SaO2', 'delta_SpO2', 'SpO2', 'ventilation_status')"
      ],
      "metadata": {
        "id": "ZIUc7QwLJuDT"
      },
      "execution_count": 6,
      "outputs": []
    },
    {
      "cell_type": "markdown",
      "source": [
        "The clinical variables selected were selected based on the variables that are most related with SaO2 and Spo2 and a correlation method was used to filter those variables. \n",
        "You can use other methods and criteria!"
      ],
      "metadata": {
        "id": "gZxXW_09KCOC"
      }
    },
    {
      "cell_type": "markdown",
      "source": [
        "###### ✏️ Select clinical variables\n",
        "1. Manual variable selection: Manually select with you team the variables that are clinically important. Don't worry if there are many, later we will use other methods to filter the variables"
      ],
      "metadata": {
        "id": "Ucr8SD4lW0Eh"
      }
    },
    {
      "cell_type": "code",
      "source": [
        "# Clinical variables\n",
        "sofa_variables <- grep(\"sofa\", names(df), value = TRUE)\n",
        "clinical_variables <- c('SpO2', 'SaO2', 'FiO2', 'ventilation_status', 'delta_vent_start', 'delta_rrt', 'delta_vp_start',\n",
        "                               'mch', 'mchc', 'mcv', 'platelet', 'rbc', 'rdw', 'wbc', 'inr', 'pt', 'ptt', 'alt', 'alp', 'ast',\n",
        "                               'bilirubin_total', 'delta_albumin', 'albumin', 'aniongap', 'bicarbonate', 'bun', 'calcium', 'chloride',\n",
        "                               'creatinine', 'glucose_lab', 'sodium', 'potassium', 'ph', 'lactate', 'norepinephrine_equivalent_dose',\n",
        "                               'hemoglobin', 'hematocrit', 'delta_ld_ldh', 'ld_ldh', 'CCI', 'BMI', 'SOFA_admission', sofa_variables)\n",
        "\n",
        "outcomes <- c('los_hospital', 'los_icu', 'mortality_in', 'hidden_hypoxemia')\n",
        "\n",
        "treatment <- c('invasive_vent', 'rrt')"
      ],
      "metadata": {
        "id": "GLYKUYWtKjNh"
      },
      "execution_count": 7,
      "outputs": []
    },
    {
      "cell_type": "markdown",
      "source": [
        "###### ✏️ Variable filtering\n",
        "Now let's use some methods to filter the variables. To do that you should decid which method to use. \n",
        "\n",
        "Hint: We used as example the correlation to select the variables mos correlated with the column SpO2 and SaO2. You don't have to use the same column(s). Choose the columns depending on your hypothesis."
      ],
      "metadata": {
        "id": "lhKfPsmRW8TA"
      }
    },
    {
      "cell_type": "code",
      "source": [
        "#' Get the most correlated variables\n",
        "#'\n",
        "#' Function to get the most directly and inversely correlated variables to a specific variable.\n",
        "#'\n",
        "#' @param df A data.frame with all the variables to calculate correlation.\n",
        "#' @param variable A string with the name of the variable with respect to which we want to calculate the correlation (E.g., 'SaO2').\n",
        "#' @param n An integer with the number of variables that we want to get as the most directly and inversely correlated.\n",
        "#'\n",
        "#' @return A list with the top n most correlated variables (inversely and directly).\n",
        "#'\n",
        "\n",
        "get_most_correlated <- function(df, variable, n) {\n",
        "\n",
        "  numerical_cols <- sapply(df, is.numeric)\n",
        "  df = df[, numerical_cols]\n",
        "\n",
        "  # Remove rows with missing values\n",
        "  df_complete <- na.omit(df)\n",
        "  # Calculate the correlation matrix\n",
        "  corr_matrix <- cor(df_complete)\n",
        "  # Print the correlation matrix\n",
        "  correlation <- corr_matrix[, variable]\n",
        "  positive_correlated <- sort(correlation, decreasing = TRUE)[1:n+1]\n",
        "  inversely_correlated <- sort(correlation, decreasing = FALSE)[1:n+1]\n",
        "  cat(rep(\"#\", 40), paste(variable), rep(\"#\", 40), \"\\n\")\n",
        "  cat(paste(\"The\", n, \"most correlated variables to variable\", variable, \"are:\\n\"))\n",
        "  print(positive_correlated)\n",
        "  cat(paste(\"The\", n, \"most inversely correlated variables to variable\", variable, \"are:\\n\"))\n",
        "  print(inversely_correlated)\n",
        "\n",
        "  return(c(names(positive_correlated), names(inversely_correlated)))\n",
        "}\n"
      ],
      "metadata": {
        "id": "quLalm0R8DqB"
      },
      "execution_count": 8,
      "outputs": []
    },
    {
      "cell_type": "code",
      "source": [
        "# Print the number of initial variables\n",
        "cat(paste(\"The number of initial variables is\", length(clinical_variables), \"\\n\"))\n",
        "\n",
        "# Get only the numeric columns\n",
        "numeric_columns <- df[clinical_variables] %>% select_if(is.numeric) %>% names()\n",
        "\n",
        "# Get variables correlated to SpO2\n",
        "columns_sao2 <- get_most_correlated(df[numeric_columns], variable = \"SpO2\", n = 8)\n",
        "\n",
        "# Get variables correlated to SaO2\n",
        "columns_spo2 <- get_most_correlated(df[numeric_columns], variable = \"SaO2\", n = 8)\n",
        "\n",
        "resulting_clinical_variables <- unique(c(columns_sao2, columns_spo2))\n",
        "\n",
        "cat(paste(\"The number of resulting variables is\", length(resulting_clinical_variables), \"\\n\"))"
      ],
      "metadata": {
        "colab": {
          "base_uri": "https://localhost:8080/"
        },
        "id": "rxZJnP7bIVWT",
        "outputId": "cafe9a46-2368-4f86-b158-e30c92f22a45"
      },
      "execution_count": 9,
      "outputs": [
        {
          "output_type": "stream",
          "name": "stdout",
          "text": [
            "The number of initial variables is 54 \n",
            "# # # # # # # # # # # # # # # # # # # # # # # # # # # # # # # # # # # # # # # # SpO2 # # # # # # # # # # # # # # # # # # # # # # # # # # # # # # # # # # # # # # # # \n",
            "The 8 most correlated variables to variable SpO2 are:\n",
            "       SaO2          ph bicarbonate         rdw    platelet         CCI \n",
            " 0.49676317  0.28095911  0.11830028  0.11106139  0.09411164  0.09311762 \n",
            "   chloride     calcium \n",
            " 0.08195581  0.06419935 \n",
            "The 8 most inversely correlated variables to variable SpO2 are:\n",
            "                          FiO2                        lactate \n",
            "                    -0.2757042                     -0.2204147 \n",
            "norepinephrine_equivalent_dose                            ast \n",
            "                    -0.2171802                     -0.1794737 \n",
            "                           alt                         ld_ldh \n",
            "                    -0.1452629                     -0.1420866 \n",
            "                     sofa_coag                       aniongap \n",
            "                    -0.1281168                     -0.1185368 \n",
            "# # # # # # # # # # # # # # # # # # # # # # # # # # # # # # # # # # # # # # # # SaO2 # # # # # # # # # # # # # # # # # # # # # # # # # # # # # # # # # # # # # # # # \n",
            "The 8 most correlated variables to variable SaO2 are:\n",
            "      SpO2         ph    albumin   platelet        CCI  potassium sofa_renal \n",
            "0.49676317 0.24288227 0.10199698 0.09124744 0.07133083 0.06691502 0.06346204 \n",
            "      mchc \n",
            "0.05693610 \n",
            "The 8 most inversely correlated variables to variable SaO2 are:\n",
            "                          FiO2 norepinephrine_equivalent_dose \n",
            "                   -0.22931179                    -0.14040336 \n",
            "                     sofa_coag                            BMI \n",
            "                   -0.11254229                    -0.11166561 \n",
            "                           mcv                         sodium \n",
            "                   -0.10475495                    -0.07974807 \n",
            "                SOFA_admission                            mch \n",
            "                   -0.07493527                    -0.06445827 \n",
            "The number of resulting variables is 26 \n"
          ]
        }
      ]
    },
    {
      "cell_type": "code",
      "source": [
        "# Get the resulting dataframe\n",
        "variables <- unique(c(patient_main_information, resulting_clinical_variables, outcomes, treatment))\n",
        "\n",
        "df <- df[, variables]\n",
        "head(df)"
      ],
      "metadata": {
        "colab": {
          "base_uri": "https://localhost:8080/",
          "height": 410
        },
        "id": "NMQJzYj-DPk6",
        "outputId": "bae1ebcc-0b85-4227-a4d8-7a66c5bb55d2"
      },
      "execution_count": 10,
      "outputs": [
        {
          "output_type": "display_data",
          "data": {
            "text/html": [
              "<table class=\"dataframe\">\n",
              "<caption>A data.frame: 6 × 42</caption>\n",
              "<thead>\n",
              "\t<tr><th></th><th scope=col>subject_id</th><th scope=col>stay_id</th><th scope=col>gender</th><th scope=col>anchor_age</th><th scope=col>race_group</th><th scope=col>language</th><th scope=col>insurance</th><th scope=col>SaO2_timestamp</th><th scope=col>SaO2</th><th scope=col>delta_SpO2</th><th scope=col>⋯</th><th scope=col>mcv</th><th scope=col>sodium</th><th scope=col>SOFA_admission</th><th scope=col>mch</th><th scope=col>los_hospital</th><th scope=col>los_icu</th><th scope=col>mortality_in</th><th scope=col>hidden_hypoxemia</th><th scope=col>invasive_vent</th><th scope=col>rrt</th></tr>\n",
              "\t<tr><th></th><th scope=col>&lt;int&gt;</th><th scope=col>&lt;int&gt;</th><th scope=col>&lt;chr&gt;</th><th scope=col>&lt;int&gt;</th><th scope=col>&lt;chr&gt;</th><th scope=col>&lt;chr&gt;</th><th scope=col>&lt;chr&gt;</th><th scope=col>&lt;chr&gt;</th><th scope=col>&lt;dbl&gt;</th><th scope=col>&lt;int&gt;</th><th scope=col>⋯</th><th scope=col>&lt;dbl&gt;</th><th scope=col>&lt;dbl&gt;</th><th scope=col>&lt;int&gt;</th><th scope=col>&lt;dbl&gt;</th><th scope=col>&lt;int&gt;</th><th scope=col>&lt;dbl&gt;</th><th scope=col>&lt;int&gt;</th><th scope=col>&lt;int&gt;</th><th scope=col>&lt;int&gt;</th><th scope=col>&lt;int&gt;</th></tr>\n",
              "</thead>\n",
              "<tbody>\n",
              "\t<tr><th scope=row>1</th><td>10001884</td><td>37510196</td><td>F</td><td>68</td><td>Black</td><td>ENGLISH</td><td>Medicare</td><td>2131-01-12 21:04:00</td><td>90</td><td> -4</td><td>⋯</td><td>93</td><td>135</td><td> 8</td><td>28.3</td><td>13</td><td>9.17</td><td>1</td><td>0</td><td>0</td><td>0</td></tr>\n",
              "\t<tr><th scope=row>2</th><td>10002013</td><td>39060235</td><td>F</td><td>53</td><td>Other</td><td>ENGLISH</td><td>Medicare</td><td>2160-05-18 16:03:00</td><td>99</td><td>  0</td><td>⋯</td><td>97</td><td>140</td><td> 4</td><td>33.9</td><td> 5</td><td>1.29</td><td>0</td><td>0</td><td>1</td><td>0</td></tr>\n",
              "\t<tr><th scope=row>3</th><td>10002428</td><td>38875437</td><td>F</td><td>80</td><td>White</td><td>ENGLISH</td><td>Medicare</td><td>2156-04-20 00:46:00</td><td>97</td><td>  0</td><td>⋯</td><td>97</td><td>143</td><td>10</td><td>30.2</td><td>17</td><td>7.00</td><td>0</td><td>0</td><td>1</td><td>0</td></tr>\n",
              "\t<tr><th scope=row>4</th><td>10002428</td><td>38875437</td><td>F</td><td>80</td><td>White</td><td>ENGLISH</td><td>Medicare</td><td>2156-04-21 02:20:00</td><td>98</td><td> -3</td><td>⋯</td><td>98</td><td>141</td><td>10</td><td>30.7</td><td>17</td><td>7.00</td><td>0</td><td>0</td><td>1</td><td>0</td></tr>\n",
              "\t<tr><th scope=row>5</th><td>10002760</td><td>31831386</td><td>M</td><td>56</td><td>Other</td><td>ENGLISH</td><td>Other   </td><td>2141-04-20 16:10:00</td><td>97</td><td>-10</td><td>⋯</td><td>94</td><td>142</td><td> 7</td><td>32.2</td><td> 4</td><td>1.04</td><td>0</td><td>0</td><td>1</td><td>0</td></tr>\n",
              "\t<tr><th scope=row>6</th><td>10002760</td><td>31831386</td><td>M</td><td>56</td><td>Other</td><td>ENGLISH</td><td>Other   </td><td>2141-04-21 02:04:00</td><td>99</td><td> -4</td><td>⋯</td><td>94</td><td>142</td><td> 7</td><td>31.9</td><td> 4</td><td>1.04</td><td>0</td><td>0</td><td>1</td><td>0</td></tr>\n",
              "</tbody>\n",
              "</table>\n"
            ],
            "text/markdown": "\nA data.frame: 6 × 42\n\n| <!--/--> | subject_id &lt;int&gt; | stay_id &lt;int&gt; | gender &lt;chr&gt; | anchor_age &lt;int&gt; | race_group &lt;chr&gt; | language &lt;chr&gt; | insurance &lt;chr&gt; | SaO2_timestamp &lt;chr&gt; | SaO2 &lt;dbl&gt; | delta_SpO2 &lt;int&gt; | ⋯ ⋯ | mcv &lt;dbl&gt; | sodium &lt;dbl&gt; | SOFA_admission &lt;int&gt; | mch &lt;dbl&gt; | los_hospital &lt;int&gt; | los_icu &lt;dbl&gt; | mortality_in &lt;int&gt; | hidden_hypoxemia &lt;int&gt; | invasive_vent &lt;int&gt; | rrt &lt;int&gt; |\n|---|---|---|---|---|---|---|---|---|---|---|---|---|---|---|---|---|---|---|---|---|---|\n| 1 | 10001884 | 37510196 | F | 68 | Black | ENGLISH | Medicare | 2131-01-12 21:04:00 | 90 |  -4 | ⋯ | 93 | 135 |  8 | 28.3 | 13 | 9.17 | 1 | 0 | 0 | 0 |\n| 2 | 10002013 | 39060235 | F | 53 | Other | ENGLISH | Medicare | 2160-05-18 16:03:00 | 99 |   0 | ⋯ | 97 | 140 |  4 | 33.9 |  5 | 1.29 | 0 | 0 | 1 | 0 |\n| 3 | 10002428 | 38875437 | F | 80 | White | ENGLISH | Medicare | 2156-04-20 00:46:00 | 97 |   0 | ⋯ | 97 | 143 | 10 | 30.2 | 17 | 7.00 | 0 | 0 | 1 | 0 |\n| 4 | 10002428 | 38875437 | F | 80 | White | ENGLISH | Medicare | 2156-04-21 02:20:00 | 98 |  -3 | ⋯ | 98 | 141 | 10 | 30.7 | 17 | 7.00 | 0 | 0 | 1 | 0 |\n| 5 | 10002760 | 31831386 | M | 56 | Other | ENGLISH | Other    | 2141-04-20 16:10:00 | 97 | -10 | ⋯ | 94 | 142 |  7 | 32.2 |  4 | 1.04 | 0 | 0 | 1 | 0 |\n| 6 | 10002760 | 31831386 | M | 56 | Other | ENGLISH | Other    | 2141-04-21 02:04:00 | 99 |  -4 | ⋯ | 94 | 142 |  7 | 31.9 |  4 | 1.04 | 0 | 0 | 1 | 0 |\n\n",
            "text/latex": "A data.frame: 6 × 42\n\\begin{tabular}{r|lllllllllllllllllllll}\n  & subject\\_id & stay\\_id & gender & anchor\\_age & race\\_group & language & insurance & SaO2\\_timestamp & SaO2 & delta\\_SpO2 & ⋯ & mcv & sodium & SOFA\\_admission & mch & los\\_hospital & los\\_icu & mortality\\_in & hidden\\_hypoxemia & invasive\\_vent & rrt\\\\\n  & <int> & <int> & <chr> & <int> & <chr> & <chr> & <chr> & <chr> & <dbl> & <int> & ⋯ & <dbl> & <dbl> & <int> & <dbl> & <int> & <dbl> & <int> & <int> & <int> & <int>\\\\\n\\hline\n\t1 & 10001884 & 37510196 & F & 68 & Black & ENGLISH & Medicare & 2131-01-12 21:04:00 & 90 &  -4 & ⋯ & 93 & 135 &  8 & 28.3 & 13 & 9.17 & 1 & 0 & 0 & 0\\\\\n\t2 & 10002013 & 39060235 & F & 53 & Other & ENGLISH & Medicare & 2160-05-18 16:03:00 & 99 &   0 & ⋯ & 97 & 140 &  4 & 33.9 &  5 & 1.29 & 0 & 0 & 1 & 0\\\\\n\t3 & 10002428 & 38875437 & F & 80 & White & ENGLISH & Medicare & 2156-04-20 00:46:00 & 97 &   0 & ⋯ & 97 & 143 & 10 & 30.2 & 17 & 7.00 & 0 & 0 & 1 & 0\\\\\n\t4 & 10002428 & 38875437 & F & 80 & White & ENGLISH & Medicare & 2156-04-21 02:20:00 & 98 &  -3 & ⋯ & 98 & 141 & 10 & 30.7 & 17 & 7.00 & 0 & 0 & 1 & 0\\\\\n\t5 & 10002760 & 31831386 & M & 56 & Other & ENGLISH & Other    & 2141-04-20 16:10:00 & 97 & -10 & ⋯ & 94 & 142 &  7 & 32.2 &  4 & 1.04 & 0 & 0 & 1 & 0\\\\\n\t6 & 10002760 & 31831386 & M & 56 & Other & ENGLISH & Other    & 2141-04-21 02:04:00 & 99 &  -4 & ⋯ & 94 & 142 &  7 & 31.9 &  4 & 1.04 & 0 & 0 & 1 & 0\\\\\n\\end{tabular}\n",
            "text/plain": [
              "  subject_id stay_id  gender anchor_age race_group language insurance\n",
              "1 10001884   37510196 F      68         Black      ENGLISH  Medicare \n",
              "2 10002013   39060235 F      53         Other      ENGLISH  Medicare \n",
              "3 10002428   38875437 F      80         White      ENGLISH  Medicare \n",
              "4 10002428   38875437 F      80         White      ENGLISH  Medicare \n",
              "5 10002760   31831386 M      56         Other      ENGLISH  Other    \n",
              "6 10002760   31831386 M      56         Other      ENGLISH  Other    \n",
              "  SaO2_timestamp      SaO2 delta_SpO2 ⋯ mcv sodium SOFA_admission mch \n",
              "1 2131-01-12 21:04:00 90    -4        ⋯ 93  135     8             28.3\n",
              "2 2160-05-18 16:03:00 99     0        ⋯ 97  140     4             33.9\n",
              "3 2156-04-20 00:46:00 97     0        ⋯ 97  143    10             30.2\n",
              "4 2156-04-21 02:20:00 98    -3        ⋯ 98  141    10             30.7\n",
              "5 2141-04-20 16:10:00 97   -10        ⋯ 94  142     7             32.2\n",
              "6 2141-04-21 02:04:00 99    -4        ⋯ 94  142     7             31.9\n",
              "  los_hospital los_icu mortality_in hidden_hypoxemia invasive_vent rrt\n",
              "1 13           9.17    1            0                0             0  \n",
              "2  5           1.29    0            0                1             0  \n",
              "3 17           7.00    0            0                1             0  \n",
              "4 17           7.00    0            0                1             0  \n",
              "5  4           1.04    0            0                1             0  \n",
              "6  4           1.04    0            0                1             0  "
            ]
          },
          "metadata": {}
        }
      ]
    },
    {
      "cell_type": "markdown",
      "source": [
        "### Understand how variables are distributed:"
      ],
      "metadata": {
        "id": "-MHV8nXH_pZ7"
      }
    },
    {
      "cell_type": "markdown",
      "source": [
        "To see a description of some statistics of each numeric variable, you can use `df.describe()`:\n"
      ],
      "metadata": {
        "id": "36D4dSeJK2zU"
      }
    },
    {
      "cell_type": "code",
      "source": [
        "summary(df)"
      ],
      "metadata": {
        "colab": {
          "base_uri": "https://localhost:8080/",
          "height": 1000
        },
        "id": "gyYJzvip-4-2",
        "outputId": "8425a2b9-0ec1-4bc8-d70a-7199a6e9d307"
      },
      "execution_count": 11,
      "outputs": [
        {
          "output_type": "display_data",
          "data": {
            "text/plain": [
              "   subject_id          stay_id            gender            anchor_age   \n",
              " Min.   :10001884   Min.   :30000646   Length:20041       Min.   :18.00  \n",
              " 1st Qu.:12492737   1st Qu.:32385234   Class :character   1st Qu.:57.00  \n",
              " Median :14980323   Median :34786353   Mode  :character   Median :67.00  \n",
              " Mean   :15017084   Mean   :34909488                      Mean   :64.88  \n",
              " 3rd Qu.:17529653   3rd Qu.:37422256                      3rd Qu.:75.00  \n",
              " Max.   :19997752   Max.   :39999230                      Max.   :91.00  \n",
              "                                                                         \n",
              "  race_group          language          insurance         SaO2_timestamp    \n",
              " Length:20041       Length:20041       Length:20041       Length:20041      \n",
              " Class :character   Class :character   Class :character   Class :character  \n",
              " Mode  :character   Mode  :character   Mode  :character   Mode  :character  \n",
              "                                                                            \n",
              "                                                                            \n",
              "                                                                            \n",
              "                                                                            \n",
              "      SaO2          delta_SpO2         SpO2        ventilation_status\n",
              " Min.   : 65.00   Min.   :-10.0   Min.   : 65.00   Length:20041      \n",
              " 1st Qu.: 95.00   1st Qu.: -8.0   1st Qu.: 95.00   Class :character  \n",
              " Median : 97.00   Median : -5.0   Median : 98.00   Mode  :character  \n",
              " Mean   : 95.85   Mean   : -4.8   Mean   : 96.93                     \n",
              " 3rd Qu.: 98.00   3rd Qu.: -2.0   3rd Qu.:100.00                     \n",
              " Max.   :100.00   Max.   :  0.0   Max.   :100.00                     \n",
              "                                                                     \n",
              "       ph        bicarbonate         rdw           platelet         CCI        \n",
              " Min.   :6.79   Min.   : 2.00   Min.   :11.10   Min.   :   5   Min.   : 0.000  \n",
              " 1st Qu.:7.34   1st Qu.:21.00   1st Qu.:14.10   1st Qu.: 104   1st Qu.: 3.000  \n",
              " Median :7.39   Median :23.00   Median :15.30   Median : 148   Median : 5.000  \n",
              " Mean   :7.38   Mean   :23.46   Mean   :15.83   Mean   : 171   Mean   : 5.224  \n",
              " 3rd Qu.:7.44   3rd Qu.:26.00   3rd Qu.:16.90   3rd Qu.: 212   3rd Qu.: 7.000  \n",
              " Max.   :7.63   Max.   :50.00   Max.   :35.70   Max.   :1267   Max.   :19.000  \n",
              " NA's   :18     NA's   :14      NA's   :13      NA's   :12                     \n",
              "    chloride        calcium            FiO2           lactate      \n",
              " Min.   : 67.0   Min.   : 3.300   Min.   : 21.00   Min.   : 0.300  \n",
              " 1st Qu.:100.0   1st Qu.: 8.000   1st Qu.: 40.00   1st Qu.: 1.200  \n",
              " Median :105.0   Median : 8.400   Median : 50.00   Median : 1.600  \n",
              " Mean   :104.1   Mean   : 8.489   Mean   : 54.82   Mean   : 2.245  \n",
              " 3rd Qu.:108.0   3rd Qu.: 8.900   3rd Qu.: 60.00   3rd Qu.: 2.400  \n",
              " Max.   :140.0   Max.   :18.100   Max.   :100.00   Max.   :24.000  \n",
              " NA's   :14      NA's   :288      NA's   :2720     NA's   :78      \n",
              " norepinephrine_equivalent_dose      ast               alt         \n",
              " Min.   : 0.004                 Min.   :    2.0   Min.   :    1.0  \n",
              " 1st Qu.: 0.050                 1st Qu.:   24.0   1st Qu.:   16.0  \n",
              " Median : 0.141                 Median :   42.0   Median :   27.0  \n",
              " Mean   : 2.262                 Mean   :  252.9   Mean   :  139.5  \n",
              " 3rd Qu.: 6.030                 3rd Qu.:   98.0   3rd Qu.:   61.0  \n",
              " Max.   :33.311                 Max.   :42606.0   Max.   :11499.0  \n",
              " NA's   :9972                   NA's   :257       NA's   :260      \n",
              "     ld_ldh          sofa_coag         aniongap        albumin     \n",
              " Min.   :   44.0   Min.   :0.0000   Min.   : 3.00   Min.   :0.400  \n",
              " 1st Qu.:  224.0   1st Qu.:0.0000   1st Qu.:11.00   1st Qu.:2.600  \n",
              " Median :  323.0   Median :1.0000   Median :14.00   Median :3.200  \n",
              " Mean   :  572.3   Mean   :0.7831   Mean   :14.42   Mean   :3.199  \n",
              " 3rd Qu.:  506.0   3rd Qu.:1.0000   3rd Qu.:17.00   3rd Qu.:3.800  \n",
              " Max.   :43920.0   Max.   :4.0000   Max.   :50.00   Max.   :5.900  \n",
              " NA's   :2256      NA's   :52       NA's   :14      NA's   :676    \n",
              "   potassium       sofa_renal          mchc            BMI         \n",
              " Min.   :2.000   Min.   :0.0000   Min.   :24.40   Min.   :  7.432  \n",
              " 1st Qu.:3.900   1st Qu.:0.0000   1st Qu.:32.20   1st Qu.: 24.728  \n",
              " Median :4.200   Median :0.0000   Median :33.30   Median : 28.406  \n",
              " Mean   :4.303   Mean   :0.7787   Mean   :33.25   Mean   : 29.687  \n",
              " 3rd Qu.:4.600   3rd Qu.:1.0000   3rd Qu.:34.40   3rd Qu.: 33.058  \n",
              " Max.   :9.400   Max.   :4.0000   Max.   :40.10   Max.   :100.898  \n",
              " NA's   :14      NA's   :15       NA's   :12      NA's   :3853     \n",
              "      mcv             sodium      SOFA_admission        mch       \n",
              " Min.   : 58.00   Min.   :103.0   Min.   : 0.000   Min.   :18.10  \n",
              " 1st Qu.: 87.00   1st Qu.:136.0   1st Qu.: 5.000   1st Qu.:29.10  \n",
              " Median : 90.00   Median :138.0   Median : 7.000   Median :30.20  \n",
              " Mean   : 90.76   Mean   :138.4   Mean   : 7.758   Mean   :30.13  \n",
              " 3rd Qu.: 94.00   3rd Qu.:141.0   3rd Qu.:10.000   3rd Qu.:31.30  \n",
              " Max.   :130.00   Max.   :176.0   Max.   :21.000   Max.   :44.10  \n",
              " NA's   :12       NA's   :14                       NA's   :12     \n",
              "  los_hospital       los_icu        mortality_in    hidden_hypoxemia \n",
              " Min.   :  0.00   Min.   :  0.13   Min.   :0.0000   Min.   :0.00000  \n",
              " 1st Qu.:  8.00   1st Qu.:  3.17   1st Qu.:0.0000   1st Qu.:0.00000  \n",
              " Median : 15.00   Median :  8.00   Median :0.0000   Median :0.00000  \n",
              " Mean   : 21.47   Mean   : 13.42   Mean   :0.2417   Mean   :0.01672  \n",
              " 3rd Qu.: 28.00   3rd Qu.: 18.33   3rd Qu.:0.0000   3rd Qu.:0.00000  \n",
              " Max.   :249.00   Max.   :103.50   Max.   :1.0000   Max.   :1.00000  \n",
              "                                                                     \n",
              " invasive_vent        rrt        \n",
              " Min.   :0.000   Min.   :0.0000  \n",
              " 1st Qu.:1.000   1st Qu.:0.0000  \n",
              " Median :1.000   Median :0.0000  \n",
              " Mean   :0.764   Mean   :0.2178  \n",
              " 3rd Qu.:1.000   3rd Qu.:0.0000  \n",
              " Max.   :1.000   Max.   :1.0000  \n",
              "                                 "
            ]
          },
          "metadata": {}
        }
      ]
    },
    {
      "cell_type": "markdown",
      "source": [
        "The problem with `aggregate()` is that it groups using all the data of each variable, this means that if in our group there are populations that are underestimated or overestimated, the description will not take that into account. An alternative to solve that problem is using the function `summary()`. With group by we can generate groups of populations using variables. An exmple is:"
      ],
      "metadata": {
        "id": "q8hv2yMShisk"
      }
    },
    {
      "cell_type": "code",
      "source": [
        "avg_sao2_by_ethnicity <- aggregate(cbind(SaO2, SpO2) ~ gender + race_group, data = df, \n",
        "                                   FUN = function(x) c(count = length(x), mean = mean(x), \n",
        "                                                      std = sd(x), min = min(x), max = max(x)))\n",
        "avg_sao2_by_ethnicity"
      ],
      "metadata": {
        "colab": {
          "base_uri": "https://localhost:8080/",
          "height": 412
        },
        "id": "ZmqCwMY6hdVj",
        "outputId": "54b967b4-2d5b-41a3-dd32-a42fa52780f2"
      },
      "execution_count": 12,
      "outputs": [
        {
          "output_type": "display_data",
          "data": {
            "text/html": [
              "<table class=\"dataframe\">\n",
              "<caption>A data.frame: 10 × 4</caption>\n",
              "<thead>\n",
              "\t<tr><th scope=col>gender</th><th scope=col>race_group</th><th scope=col>SaO2</th><th scope=col>SpO2</th></tr>\n",
              "\t<tr><th scope=col>&lt;chr&gt;</th><th scope=col>&lt;chr&gt;</th><th scope=col>&lt;dbl[,5]&gt;</th><th scope=col>&lt;dbl[,5]&gt;</th></tr>\n",
              "</thead>\n",
              "<tbody>\n",
              "\t<tr><td>F</td><td>Asian   </td><td> 115, 95.73913, 2.485350, 88,  99</td><td> 115, 97.41739, 4.364897, 65, 100</td></tr>\n",
              "\t<tr><td>M</td><td>Asian   </td><td> 458, 95.83188, 3.242245, 74, 100</td><td> 458, 97.30568, 3.422542, 76, 100</td></tr>\n",
              "\t<tr><td>F</td><td>Black   </td><td> 568, 95.45194, 3.641975, 77, 100</td><td> 568, 97.25000, 3.696726, 71, 100</td></tr>\n",
              "\t<tr><td>M</td><td>Black   </td><td> 797, 95.52447, 3.616818, 69, 100</td><td> 797, 97.22459, 3.667527, 67, 100</td></tr>\n",
              "\t<tr><td>F</td><td>Hispanic</td><td> 252, 95.80556, 3.591420, 67, 100</td><td> 252, 97.10317, 4.491389, 67, 100</td></tr>\n",
              "\t<tr><td>M</td><td>Hispanic</td><td> 387, 96.19897, 2.962494, 77,  99</td><td> 387, 97.38760, 3.285965, 79, 100</td></tr>\n",
              "\t<tr><td>F</td><td>Other   </td><td>1340, 95.87813, 3.449323, 66, 100</td><td>1340, 96.80224, 4.124699, 68, 100</td></tr>\n",
              "\t<tr><td>M</td><td>Other   </td><td>2417, 95.47497, 3.691359, 65, 100</td><td>2417, 96.55647, 4.241008, 67, 100</td></tr>\n",
              "\t<tr><td>F</td><td>White   </td><td>4706, 96.00982, 3.424852, 66, 100</td><td>4706, 96.97301, 3.697820, 65, 100</td></tr>\n",
              "\t<tr><td>M</td><td>White   </td><td>9001, 95.91312, 3.330400, 65, 100</td><td>9001, 96.93167, 3.705416, 67, 100</td></tr>\n",
              "</tbody>\n",
              "</table>\n"
            ],
            "text/markdown": "\nA data.frame: 10 × 4\n\n| gender &lt;chr&gt; | race_group &lt;chr&gt; | SaO2 &lt;dbl[,5]&gt; | SpO2 &lt;dbl[,5]&gt; |\n|---|---|---|---|\n| F | Asian    |  115, 95.73913, 2.485350, 88,  99 |  115, 97.41739, 4.364897, 65, 100 |\n| M | Asian    |  458, 95.83188, 3.242245, 74, 100 |  458, 97.30568, 3.422542, 76, 100 |\n| F | Black    |  568, 95.45194, 3.641975, 77, 100 |  568, 97.25000, 3.696726, 71, 100 |\n| M | Black    |  797, 95.52447, 3.616818, 69, 100 |  797, 97.22459, 3.667527, 67, 100 |\n| F | Hispanic |  252, 95.80556, 3.591420, 67, 100 |  252, 97.10317, 4.491389, 67, 100 |\n| M | Hispanic |  387, 96.19897, 2.962494, 77,  99 |  387, 97.38760, 3.285965, 79, 100 |\n| F | Other    | 1340, 95.87813, 3.449323, 66, 100 | 1340, 96.80224, 4.124699, 68, 100 |\n| M | Other    | 2417, 95.47497, 3.691359, 65, 100 | 2417, 96.55647, 4.241008, 67, 100 |\n| F | White    | 4706, 96.00982, 3.424852, 66, 100 | 4706, 96.97301, 3.697820, 65, 100 |\n| M | White    | 9001, 95.91312, 3.330400, 65, 100 | 9001, 96.93167, 3.705416, 67, 100 |\n\n",
            "text/latex": "A data.frame: 10 × 4\n\\begin{tabular}{llll}\n gender & race\\_group & SaO2 & SpO2\\\\\n <chr> & <chr> & <dbl{[},5{]}> & <dbl{[},5{]}>\\\\\n\\hline\n\t F & Asian    &  115, 95.73913, 2.485350, 88,  99 &  115, 97.41739, 4.364897, 65, 100\\\\\n\t M & Asian    &  458, 95.83188, 3.242245, 74, 100 &  458, 97.30568, 3.422542, 76, 100\\\\\n\t F & Black    &  568, 95.45194, 3.641975, 77, 100 &  568, 97.25000, 3.696726, 71, 100\\\\\n\t M & Black    &  797, 95.52447, 3.616818, 69, 100 &  797, 97.22459, 3.667527, 67, 100\\\\\n\t F & Hispanic &  252, 95.80556, 3.591420, 67, 100 &  252, 97.10317, 4.491389, 67, 100\\\\\n\t M & Hispanic &  387, 96.19897, 2.962494, 77,  99 &  387, 97.38760, 3.285965, 79, 100\\\\\n\t F & Other    & 1340, 95.87813, 3.449323, 66, 100 & 1340, 96.80224, 4.124699, 68, 100\\\\\n\t M & Other    & 2417, 95.47497, 3.691359, 65, 100 & 2417, 96.55647, 4.241008, 67, 100\\\\\n\t F & White    & 4706, 96.00982, 3.424852, 66, 100 & 4706, 96.97301, 3.697820, 65, 100\\\\\n\t M & White    & 9001, 95.91312, 3.330400, 65, 100 & 9001, 96.93167, 3.705416, 67, 100\\\\\n\\end{tabular}\n",
            "text/plain": [
              "   gender race_group SaO2                             \n",
              "1  F      Asian       115, 95.73913, 2.485350, 88,  99\n",
              "2  M      Asian       458, 95.83188, 3.242245, 74, 100\n",
              "3  F      Black       568, 95.45194, 3.641975, 77, 100\n",
              "4  M      Black       797, 95.52447, 3.616818, 69, 100\n",
              "5  F      Hispanic    252, 95.80556, 3.591420, 67, 100\n",
              "6  M      Hispanic    387, 96.19897, 2.962494, 77,  99\n",
              "7  F      Other      1340, 95.87813, 3.449323, 66, 100\n",
              "8  M      Other      2417, 95.47497, 3.691359, 65, 100\n",
              "9  F      White      4706, 96.00982, 3.424852, 66, 100\n",
              "10 M      White      9001, 95.91312, 3.330400, 65, 100\n",
              "   SpO2                             \n",
              "1   115, 97.41739, 4.364897, 65, 100\n",
              "2   458, 97.30568, 3.422542, 76, 100\n",
              "3   568, 97.25000, 3.696726, 71, 100\n",
              "4   797, 97.22459, 3.667527, 67, 100\n",
              "5   252, 97.10317, 4.491389, 67, 100\n",
              "6   387, 97.38760, 3.285965, 79, 100\n",
              "7  1340, 96.80224, 4.124699, 68, 100\n",
              "8  2417, 96.55647, 4.241008, 67, 100\n",
              "9  4706, 96.97301, 3.697820, 65, 100\n",
              "10 9001, 96.93167, 3.705416, 67, 100"
            ]
          },
          "metadata": {}
        }
      ]
    },
    {
      "cell_type": "markdown",
      "source": [
        "Alternatively, there are also libraries that allow us to do this process automatically. Below is an example using tableone library. "
      ],
      "metadata": {
        "id": "O-tm_ARoz-8s"
      }
    },
    {
      "cell_type": "code",
      "source": [
        "df$language <- replace(df$language, df$language == \"ENGLISH\", \"Proficient\")\n",
        "df$language <- replace(df$language, df$language == \"?\", \"Limited Proficiency\")"
      ],
      "metadata": {
        "id": "XZOdDnZUi6jB"
      },
      "execution_count": 13,
      "outputs": []
    },
    {
      "cell_type": "code",
      "source": [
        "groupby <- c(\"race_group\")\n",
        "categorical_variables <- c(\"mortality_in\", \"gender\", \"language\", \"invasive_vent\")\n",
        "numerical_variables <- c(\"anchor_age\", \"los_icu\", \"los_hospital\", \"SOFA_admission\")\n",
        "columns <- c(categorical_variables, numerical_variables)\n",
        "labels <- c(\"anchor_age\" = \"age\", \"SOFA_admission\" = \"SOFA\")\n",
        "mytable <- CreateTableOne(data = df, vars = columns, strata = groupby, factorVars = categorical_variables)\n",
        "mytable"
      ],
      "metadata": {
        "colab": {
          "base_uri": "https://localhost:8080/",
          "height": 410
        },
        "id": "foYkDJqQocnL",
        "outputId": "77f2b75e-99ed-4d12-c768-e836b441a4fb"
      },
      "execution_count": 14,
      "outputs": [
        {
          "output_type": "display_data",
          "data": {
            "text/plain": [
              "                            Stratified by race_group\n",
              "                             Asian         Black         Hispanic     \n",
              "  n                            573          1365           639        \n",
              "  mortality_in = 1 (%)         108 (18.8)    295 (21.6)    136 (21.3) \n",
              "  gender = M (%)               458 (79.9)    797 (58.4)    387 (60.6) \n",
              "  language = Proficient (%)    239 (41.7)   1168 (85.6)    166 (26.0) \n",
              "  invasive_vent = 1 (%)        471 (82.2)   1024 (75.0)    465 (72.8) \n",
              "  anchor_age (mean (SD))     60.52 (16.85) 59.92 (14.43) 58.72 (15.32)\n",
              "  los_icu (mean (SD))        21.79 (21.96) 13.54 (13.40) 12.13 (11.91)\n",
              "  los_hospital (mean (SD))   28.36 (20.93) 24.07 (25.90) 30.09 (44.05)\n",
              "  SOFA_admission (mean (SD))  8.77 (3.98)   7.98 (3.88)   7.75 (4.03) \n",
              "                            Stratified by race_group\n",
              "                             Other         White         p      test\n",
              "  n                           3757         13707                    \n",
              "  mortality_in = 1 (%)        1313 (34.9)   2991 (21.8)  <0.001     \n",
              "  gender = M (%)              2417 (64.3)   9001 (65.7)  <0.001     \n",
              "  language = Proficient (%)   3173 (84.5)  13058 (95.3)  <0.001     \n",
              "  invasive_vent = 1 (%)       2947 (78.4)  10404 (75.9)  <0.001     \n",
              "  anchor_age (mean (SD))     62.58 (16.60) 66.48 (13.12) <0.001     \n",
              "  los_icu (mean (SD))        13.86 (13.22) 13.00 (15.01) <0.001     \n",
              "  los_hospital (mean (SD))   20.32 (16.40) 20.84 (20.13) <0.001     \n",
              "  SOFA_admission (mean (SD))  8.40 (4.15)   7.52 (3.68)  <0.001     "
            ]
          },
          "metadata": {}
        }
      ]
    },
    {
      "cell_type": "markdown",
      "source": [
        "###### ✏️ Use tableone\n",
        "\n",
        "Now let's create a new tableone using all the variables to to measure differences between ethnic groups!\n",
        "\n",
        "Hint: Use the function `get_categorical_numerical_variables` to get all the numeric and categorical variables. Then use those variables to generate a tableone of the whole dataset\n"
      ],
      "metadata": {
        "id": "MWKI47ieLIIL"
      }
    },
    {
      "cell_type": "code",
      "source": [
        "get_categorical_numerical_variables <- function(df, limit, ignore, verbose = TRUE) {\n",
        "  categorical_columns <- c()\n",
        "  numerical_columns <- c()\n",
        "\n",
        "  for (column in names(df)) {\n",
        "    if (!is.null(ignore) && column %in% ignore) \n",
        "    {\n",
        "      next\n",
        "    }\n",
        "    unique_values <- length(unique(df[[column]]))\n",
        "    if (unique_values <= limit) {\n",
        "      if (verbose) {\n",
        "        cat(paste(\"The column\", column, \"has\", unique_values, \"unique values, so it is categorical\\n\"))\n",
        "      }\n",
        "      categorical_columns <- c(categorical_columns, column)\n",
        "    } else {\n",
        "      if (verbose) {\n",
        "        cat(paste(\"The column\", column, \"has\", unique_values, \"unique values, so it is numerical\\n\"))\n",
        "      }\n",
        "      numerical_columns <- c(numerical_columns, column)\n",
        "    }\n",
        "  }\n",
        "\n",
        "  return(list(categorical_columns, numerical_columns))\n",
        "}"
      ],
      "metadata": {
        "id": "ouIrWL4AiEM2"
      },
      "execution_count": 15,
      "outputs": []
    },
    {
      "cell_type": "code",
      "source": [
        "groupby <- c(\"race_group\")\n",
        "ignore <- c(\"SaO2_timestamp\", \"stay_id\", \"subject_id\", groupby)\n",
        "\n",
        "result <- get_categorical_numerical_variables(df, limit = 10, ignore = ignore)\n",
        "categorical_columns <- result[[1]]\n",
        "numerical_columns <- result[[2]]"
      ],
      "metadata": {
        "colab": {
          "base_uri": "https://localhost:8080/"
        },
        "id": "e4mKATylIfJW",
        "outputId": "c88c2d8c-c819-4b02-a456-1ef83fa636cd"
      },
      "execution_count": 16,
      "outputs": [
        {
          "output_type": "stream",
          "name": "stdout",
          "text": [
            "The column gender has 2 unique values, so it is categorical\n",
            "The column anchor_age has 73 unique values, so it is numerical\n",
            "The column language has 2 unique values, so it is categorical\n",
            "The column insurance has 3 unique values, so it is categorical\n",
            "The column SaO2 has 41 unique values, so it is numerical\n",
            "The column delta_SpO2 has 11 unique values, so it is numerical\n",
            "The column SpO2 has 36 unique values, so it is numerical\n",
            "The column ventilation_status has 7 unique values, so it is categorical\n",
            "The column ph has 80 unique values, so it is numerical\n",
            "The column bicarbonate has 49 unique values, so it is numerical\n",
            "The column rdw has 199 unique values, so it is numerical\n",
            "The column platelet has 657 unique values, so it is numerical\n",
            "The column CCI has 18 unique values, so it is numerical\n",
            "The column chloride has 62 unique values, so it is numerical\n",
            "The column calcium has 107 unique values, so it is numerical\n",
            "The column FiO2 has 37 unique values, so it is numerical\n",
            "The column lactate has 204 unique values, so it is numerical\n",
            "The column norepinephrine_equivalent_dose has 3711 unique values, so it is numerical\n",
            "The column ast has 1295 unique values, so it is numerical\n",
            "The column alt has 1060 unique values, so it is numerical\n",
            "The column ld_ldh has 1559 unique values, so it is numerical\n",
            "The column sofa_coag has 6 unique values, so it is categorical\n",
            "The column aniongap has 48 unique values, so it is numerical\n",
            "The column albumin has 49 unique values, so it is numerical\n",
            "The column potassium has 67 unique values, so it is numerical\n",
            "The column sofa_renal has 6 unique values, so it is categorical\n",
            "The column mchc has 131 unique values, so it is numerical\n",
            "The column BMI has 3867 unique values, so it is numerical\n",
            "The column mcv has 74 unique values, so it is numerical\n",
            "The column sodium has 54 unique values, so it is numerical\n",
            "The column SOFA_admission has 22 unique values, so it is numerical\n",
            "The column mch has 198 unique values, so it is numerical\n",
            "The column los_hospital has 123 unique values, so it is numerical\n",
            "The column los_icu has 855 unique values, so it is numerical\n",
            "The column mortality_in has 2 unique values, so it is categorical\n",
            "The column hidden_hypoxemia has 2 unique values, so it is categorical\n",
            "The column invasive_vent has 2 unique values, so it is categorical\n",
            "The column rrt has 2 unique values, so it is categorical\n"
          ]
        }
      ]
    },
    {
      "cell_type": "code",
      "source": [
        "# Perform table one analysis\n",
        "tab <- CreateTableOne(\n",
        "  data = df,\n",
        "  vars = columns,\n",
        "  factorVars = categorical_columns,\n",
        "  strata = groupby\n",
        ")\n",
        "\n",
        "# Print the table one summary\n",
        "print(tab)"
      ],
      "metadata": {
        "colab": {
          "base_uri": "https://localhost:8080/"
        },
        "id": "eElIVQoVe3HX",
        "outputId": "d4c6012b-2f8e-489b-ef92-e178be19cf2b"
      },
      "execution_count": 17,
      "outputs": [
        {
          "output_type": "stream",
          "name": "stdout",
          "text": [
            "                            Stratified by race_group\n",
            "                             Asian         Black         Hispanic     \n",
            "  n                            573          1365           639        \n",
            "  mortality_in = 1 (%)         108 (18.8)    295 (21.6)    136 (21.3) \n",
            "  gender = M (%)               458 (79.9)    797 (58.4)    387 (60.6) \n",
            "  language = Proficient (%)    239 (41.7)   1168 (85.6)    166 (26.0) \n",
            "  invasive_vent = 1 (%)        471 (82.2)   1024 (75.0)    465 (72.8) \n",
            "  anchor_age (mean (SD))     60.52 (16.85) 59.92 (14.43) 58.72 (15.32)\n",
            "  los_icu (mean (SD))        21.79 (21.96) 13.54 (13.40) 12.13 (11.91)\n",
            "  los_hospital (mean (SD))   28.36 (20.93) 24.07 (25.90) 30.09 (44.05)\n",
            "  SOFA_admission (mean (SD))  8.77 (3.98)   7.98 (3.88)   7.75 (4.03) \n",
            "                            Stratified by race_group\n",
            "                             Other         White         p      test\n",
            "  n                           3757         13707                    \n",
            "  mortality_in = 1 (%)        1313 (34.9)   2991 (21.8)  <0.001     \n",
            "  gender = M (%)              2417 (64.3)   9001 (65.7)  <0.001     \n",
            "  language = Proficient (%)   3173 (84.5)  13058 (95.3)  <0.001     \n",
            "  invasive_vent = 1 (%)       2947 (78.4)  10404 (75.9)  <0.001     \n",
            "  anchor_age (mean (SD))     62.58 (16.60) 66.48 (13.12) <0.001     \n",
            "  los_icu (mean (SD))        13.86 (13.22) 13.00 (15.01) <0.001     \n",
            "  los_hospital (mean (SD))   20.32 (16.40) 20.84 (20.13) <0.001     \n",
            "  SOFA_admission (mean (SD))  8.40 (4.15)   7.52 (3.68)  <0.001     \n"
          ]
        }
      ]
    },
    {
      "cell_type": "markdown",
      "source": [
        "### visualize your data\n",
        "\n",
        "While statistics are important, it is also very important and key to visualize the data. This will help to share the information and results in a visual and intuitive way, and identify anomalous and data patterns that could be useful when choosing the model."
      ],
      "metadata": {
        "id": "y-8mdEVQLSKZ"
      }
    },
    {
      "cell_type": "markdown",
      "source": [
        "#### Bar charts and histograms\n",
        "Bar charts and histograms can be used to see how our data is distributed and how many instances there are of each class, this way we can identify imbalances in the classes and avoid overfitting in the models\n",
        "\n",
        "To create a histogram with seaborn, you can use the code:\n",
        "\n",
        "\n",
        "```\n",
        "ggplot(df, aes(x = column_name)) +\n",
        "  geom_bar(fill = \"steelblue\", color = \"white\") +\n",
        "  labs(title = \"Table title\") +\n",
        "  theme_minimal()\n",
        "```\n",
        "\n",
        "\n"
      ],
      "metadata": {
        "id": "0L5teBSObmED"
      }
    },
    {
      "cell_type": "markdown",
      "source": [
        "###### ✏️ Plot the distribution by race group"
      ],
      "metadata": {
        "id": "Op0QYpYxMvp-"
      }
    },
    {
      "cell_type": "code",
      "source": [
        "install.packages('ggplot2')"
      ],
      "metadata": {
        "colab": {
          "base_uri": "https://localhost:8080/"
        },
        "id": "CMOawAixubl3",
        "outputId": "203b83f5-3a87-4a35-b87b-35ff17a75cdb"
      },
      "execution_count": 18,
      "outputs": [
        {
          "output_type": "stream",
          "name": "stderr",
          "text": [
            "Installing package into ‘/usr/local/lib/R/site-library’\n",
            "(as ‘lib’ is unspecified)\n",
            "\n"
          ]
        }
      ]
    },
    {
      "cell_type": "code",
      "source": [
        "# Plot histogram\n",
        "ggplot(df, aes(x = race_group)) +\n",
        "  geom_bar(fill = \"steelblue\", color = \"white\") +\n",
        "  labs(title = \"Race group distribution\") +\n",
        "  theme_minimal()"
      ],
      "metadata": {
        "colab": {
          "base_uri": "https://localhost:8080/",
          "height": 437
        },
        "id": "Od3Y5ngNuFfT",
        "outputId": "669bcc8c-b581-4157-83a8-86a74c28f36e"
      },
      "execution_count": 19,
      "outputs": [
        {
          "output_type": "display_data",
          "data": {
            "text/plain": [
              "plot without title"
            ],
            "image/png": "[encoded data removed]"
          },
          "metadata": {
            "image/png": {
              "width": 420,
              "height": 420
            }
          }
        }
      ]
    },
    {
      "cell_type": "markdown",
      "source": [
        "###### ✏️ Plot the distribution by gender"
      ],
      "metadata": {
        "id": "WP4GUREQM_0g"
      }
    },
    {
      "cell_type": "code",
      "source": [
        "# Plot histogram\n",
        "ggplot(df, aes(x = gender)) +\n",
        "  geom_bar(fill = \"steelblue\", color = \"white\") +\n",
        "  labs(title = \"Gender distribution\") +\n",
        "  theme_minimal()"
      ],
      "metadata": {
        "colab": {
          "base_uri": "https://localhost:8080/",
          "height": 437
        },
        "id": "21beiKNxcJGf",
        "outputId": "cd5853d4-cee0-4f7f-c8ed-7af57db7e745"
      },
      "execution_count": 20,
      "outputs": [
        {
          "output_type": "display_data",
          "data": {
            "text/plain": [
              "plot without title"
            ],
            "image/png": "[encoded data removed]"
          },
          "metadata": {
            "image/png": {
              "width": 420,
              "height": 420
            }
          }
        }
      ]
    },
    {
      "cell_type": "markdown",
      "source": [
        "###### ✏️ Plot the distribution by age and race group"
      ],
      "metadata": {
        "id": "47abe3cjNCiu"
      }
    },
    {
      "cell_type": "code",
      "source": [
        "# Plot histogram with multiple dodge bars\n",
        "ggplot(df, aes(x = anchor_age, fill = race_group)) +\n",
        "  geom_histogram(position = \"dodge\", bins = 30) +\n",
        "  labs(title = \"Age distribution by race group\") +\n",
        "  theme_minimal()\n"
      ],
      "metadata": {
        "colab": {
          "base_uri": "https://localhost:8080/",
          "height": 437
        },
        "id": "BCLSrqliwEP0",
        "outputId": "38d39d60-1920-40ee-e345-779f3093b84e"
      },
      "execution_count": 21,
      "outputs": [
        {
          "output_type": "display_data",
          "data": {
            "text/plain": [
              "plot without title"
            ],
            "image/png": "[encoded data removed]"
          },
          "metadata": {
            "image/png": {
              "width": 420,
              "height": 420
            }
          }
        }
      ]
    },
    {
      "cell_type": "markdown",
      "source": [
        "#### Box plots and violin plots\n",
        "**Outilers ❗❗❗**: While in some cases there are no null values, could be outliers values. These outliers are sometimes indicators of biases in data collection, or social/cultural biases. However, in some cases the outliers are erroneous values during data collection and storage. Identifying values such as very high SaO2 (99999) or negative is an indicator in many cases of missing values and should be taken as such.\n",
        "\n",
        "Bar and violin charts are one of the best ways to identify outliers, because they show us around which values most of our data is clustered."
      ],
      "metadata": {
        "id": "oRt_xYq87hLi"
      }
    },
    {
      "cell_type": "code",
      "source": [
        "#' Plot Groupby\n",
        "#'\n",
        "#' This function creates two plots that compare the average values of a variable for two groups in a dataframe.\n",
        "#' The function allows the user to choose between a bar plot, box plot, and violin plot for each group.\n",
        "#' The first plot compares the averages for the first group, and the second plot compares the averages for the second group.\n",
        "#'\n",
        "#' @param df The dataframe.\n",
        "#' @param group1 Name of the first categorical variable to group by.\n",
        "#' @param group2 Name of the second categorical variable to group by.\n",
        "#' @param variable Name of the numerical variable to plot.\n",
        "#' @param barplot Logical, indicating whether to plot bar plots or not. Default is TRUE.\n",
        "#' @param boxplot Logical, indicating whether to plot box plots or not. Default is TRUE.\n",
        "#' @param violinplot Logical, indicating whether to plot violin plots or not. Default is FALSE.\n",
        "#'\n",
        "#' @return None\n",
        "#'\n",
        "#' @examples\n",
        "#' plot_groupby(df, group1 = \"gender\", group2 = \"race_group\", variable = \"SaO2\", barplot = TRUE, boxplot = TRUE, violinplot = FALSE)\n",
        "#'\n",
        "library(vioplot)\n",
        "\n",
        "plot_groupby <- function(df, group1, group2, variable, barplot = TRUE, boxplot = TRUE, violinplot = FALSE) {\n",
        "  avg_by_group1 <- aggregate(df[[variable]], by = list(df[[group1]]), FUN = mean, na.rm = TRUE)\n",
        "  avg_by_group2 <- aggregate(df[[variable]], by = list(df[[group2]]), FUN = mean, na.rm = TRUE)\n",
        "  \n",
        "  if (barplot) {\n",
        "    # Bar plot\n",
        "    cat(\"Bar Plot:\\n\")\n",
        "    barplot(avg_by_group1$x, names.arg = avg_by_group1$Group.1, xlab = group1, ylab = paste(\"Average\", variable))\n",
        "    barplot(avg_by_group2$x, names.arg = avg_by_group2$Group.1, xlab = group2, ylab = paste(\"Average\", variable))\n",
        "  }\n",
        "  \n",
        "  if (boxplot) {\n",
        "    # Box plot\n",
        "    cat(\"Box Plot:\\n\")\n",
        "    boxplot(df[[variable]] ~ df[[group1]] + df[[group2]], data = df, xlab = group1, ylab = variable)\n",
        "  }\n",
        "  \n",
        "  if (violinplot) {\n",
        "    # Violin plot\n",
        "    cat(\"Violin Plot:\\n\")\n",
        "    vioplot(df[[variable]] ~ df[[group1]] + df[[group2]], data = df, horizontal = FALSE, col = \"lightblue\")\n",
        "  }\n",
        "}\n"
      ],
      "metadata": {
        "id": "EPLqY9xsx7uj"
      },
      "execution_count": 22,
      "outputs": []
    },
    {
      "cell_type": "markdown",
      "source": [
        "###### ✏️ Plot the distribution of SaO2 by gender and race group"
      ],
      "metadata": {
        "id": "Mhi4eVrrhzJ3"
      }
    },
    {
      "cell_type": "code",
      "source": [
        "plot_groupby(df, group1='gender', group2='race_group', variable='SaO2')"
      ],
      "metadata": {
        "id": "kd8Y6R_P9qag",
        "colab": {
          "base_uri": "https://localhost:8080/",
          "height": 1000
        },
        "outputId": "3f35ebdb-e978-4edf-ecd0-34fa02b803b3"
      },
      "execution_count": 23,
      "outputs": [
        {
          "output_type": "stream",
          "name": "stdout",
          "text": [
            "Bar Plot:\n"
          ]
        },
        {
          "output_type": "display_data",
          "data": {
            "text/plain": [
              "plot without title"
            ],
            "image/png": "[encoded data removed]"
          },
          "metadata": {
            "image/png": {
              "width": 420,
              "height": 420
            }
          }
        },
        {
          "output_type": "stream",
          "name": "stdout",
          "text": [
            "Box Plot:\n"
          ]
        },
        {
          "output_type": "display_data",
          "data": {
            "text/plain": [
              "plot without title"
            ],
            "image/png": "[encoded data removed]"
          },
          "metadata": {
            "image/png": {
              "width": 420,
              "height": 420
            }
          }
        },
        {
          "output_type": "display_data",
          "data": {
            "text/plain": [
              "plot without title"
            ],
            "image/png": "[encoded data removed]"
          },
          "metadata": {
            "image/png": {
              "width": 420,
              "height": 420
            }
          }
        }
      ]
    },
    {
      "cell_type": "markdown",
      "source": [
        "###### ✏️ Plot the distribution of SpO2 by gender and race group"
      ],
      "metadata": {
        "id": "5VbxyRjYh6UN"
      }
    },
    {
      "cell_type": "code",
      "source": [
        "plot_groupby(df, group1='gender', group2='race_group', variable='SpO2')"
      ],
      "metadata": {
        "id": "mcbHq8-0jIMB",
        "colab": {
          "base_uri": "https://localhost:8080/",
          "height": 1000
        },
        "outputId": "027f54c9-48a3-4e61-f70b-689025c6bada"
      },
      "execution_count": 24,
      "outputs": [
        {
          "output_type": "stream",
          "name": "stdout",
          "text": [
            "Bar Plot:\n"
          ]
        },
        {
          "output_type": "display_data",
          "data": {
            "text/plain": [
              "plot without title"
            ],
            "image/png": "[encoded data removed]"
          },
          "metadata": {
            "image/png": {
              "width": 420,
              "height": 420
            }
          }
        },
        {
          "output_type": "stream",
          "name": "stdout",
          "text": [
            "Box Plot:\n"
          ]
        },
        {
          "output_type": "display_data",
          "data": {
            "text/plain": [
              "plot without title"
            ],
            "image/png": "[encoded data removed]"
          },
          "metadata": {
            "image/png": {
              "width": 420,
              "height": 420
            }
          }
        },
        {
          "output_type": "display_data",
          "data": {
            "text/plain": [
              "plot without title"
            ],
            "image/png": "[encoded data removed]"
          },
          "metadata": {
            "image/png": {
              "width": 420,
              "height": 420
            }
          }
        }
      ]
    },
    {
      "cell_type": "markdown",
      "source": [
        "###### ✏️ Plot the distribution of any Time Offset by gender and race group (Use violin plot)\n",
        "\n",
        "Hint: You can use the next line of code to get all the variables related to a time offset"
      ],
      "metadata": {
        "id": "_IApC0RKfjcO"
      }
    },
    {
      "cell_type": "code",
      "source": [
        "for (column in colnames(df)) {\n",
        "  if (grepl(\"delta\", column)) {\n",
        "    print(column)\n",
        "  }\n",
        "}"
      ],
      "metadata": {
        "colab": {
          "base_uri": "https://localhost:8080/"
        },
        "id": "OSwa5fEdhQT_",
        "outputId": "2fcc714f-f6cb-4371-bdce-4d12d0a190f5"
      },
      "execution_count": 25,
      "outputs": [
        {
          "output_type": "stream",
          "name": "stdout",
          "text": [
            "[1] \"delta_SpO2\"\n"
          ]
        }
      ]
    },
    {
      "cell_type": "code",
      "source": [
        "plot_groupby(df, group1='gender', group2='race_group', variable='delta_SpO2', barplot=TRUE, boxplot=FALSE, violinplot=TRUE)"
      ],
      "metadata": {
        "id": "QCGZGTHfeuiC",
        "colab": {
          "base_uri": "https://localhost:8080/",
          "height": 1000
        },
        "outputId": "0df0af95-6103-4b51-f000-5be1e44496c6"
      },
      "execution_count": 26,
      "outputs": [
        {
          "output_type": "stream",
          "name": "stdout",
          "text": [
            "Bar Plot:\n"
          ]
        },
        {
          "output_type": "display_data",
          "data": {
            "text/plain": [
              "plot without title"
            ],
            "image/png": "[encoded data removed]"
          },
          "metadata": {
            "image/png": {
              "width": 420,
              "height": 420
            }
          }
        },
        {
          "output_type": "stream",
          "name": "stdout",
          "text": [
            "Violin Plot:\n"
          ]
        },
        {
          "output_type": "display_data",
          "data": {
            "text/plain": [
              "plot without title"
            ],
            "image/png": "[encoded data removed]"
          },
          "metadata": {
            "image/png": {
              "width": 420,
              "height": 420
            }
          }
        },
        {
          "output_type": "display_data",
          "data": {
            "text/plain": [
              "Plot with title “”"
            ],
            "image/png": "[encoded data removed]"
          },
          "metadata": {
            "image/png": {
              "width": 420,
              "height": 420
            }
          }
        }
      ]
    },
    {
      "cell_type": "markdown",
      "source": [
        "## 4. Preprocessing\n",
        "---\n",
        "We know that there are some outliers so let's assume that those values al missing values and then analyze the amount of missing values for preprocessing"
      ],
      "metadata": {
        "id": "OQxBAUV7SCcV"
      }
    },
    {
      "cell_type": "markdown",
      "source": [
        "### Missing values\n",
        "\n",
        "Let's see which columns have variables with missing data"
      ],
      "metadata": {
        "id": "Th51UTXwSRYk"
      }
    },
    {
      "cell_type": "code",
      "source": [
        "vis_miss(df)"
      ],
      "metadata": {
        "id": "cW7ysOZGeunN",
        "colab": {
          "base_uri": "https://localhost:8080/",
          "height": 437
        },
        "outputId": "abc2da96-81a4-4c17-f881-83261c9e2854"
      },
      "execution_count": 27,
      "outputs": [
        {
          "output_type": "display_data",
          "data": {
            "text/plain": [
              "plot without title"
            ],
            "image/png": "[encoded data removed]"
          },
          "metadata": {
            "image/png": {
              "width": 420,
              "height": 420
            }
          }
        }
      ]
    },
    {
      "cell_type": "markdown",
      "source": [
        "###### ✏️ detect columns with null values\n",
        "Use the function `null_values` to see the columns with missing data and the number of rows missing.\n",
        "\n",
        "if the number of values with missing data is very high compared to the size of the dataset (E.g. 85%), in some cases it is better just to remove them"
      ],
      "metadata": {
        "id": "OcfF2HSqOM3f"
      }
    },
    {
      "cell_type": "code",
      "source": [
        "### List of columns with mussing values ###\n",
        "null_values(df)"
      ],
      "metadata": {
        "colab": {
          "base_uri": "https://localhost:8080/"
        },
        "id": "DNVsJ8FRSJ7N",
        "outputId": "cd17c1c9-ab87-44a2-fe57-4e67473e21f3"
      },
      "execution_count": 28,
      "outputs": [
        {
          "output_type": "stream",
          "name": "stdout",
          "text": [
            "[1] \"Null values:\"\n",
            " [1] \"ph\"                             \"bicarbonate\"                   \n",
            " [3] \"rdw\"                            \"platelet\"                      \n",
            " [5] \"chloride\"                       \"calcium\"                       \n",
            " [7] \"FiO2\"                           \"lactate\"                       \n",
            " [9] \"norepinephrine_equivalent_dose\" \"ast\"                           \n",
            "[11] \"alt\"                            \"ld_ldh\"                        \n",
            "[13] \"sofa_coag\"                      \"aniongap\"                      \n",
            "[15] \"albumin\"                        \"potassium\"                     \n",
            "[17] \"sofa_renal\"                     \"mchc\"                          \n",
            "[19] \"BMI\"                            \"mcv\"                           \n",
            "[21] \"sodium\"                         \"mch\"                           \n"
          ]
        }
      ]
    },
    {
      "cell_type": "markdown",
      "source": [
        "### Train-Test Split\n",
        "Dividing your dataset into training and test is important, since what we want is for the model to learn, not memorize.\n",
        "We want to test the behavior of the model on unknown data. For that reason, the dataset should always be divided into training and test. \n",
        "\n",
        "The way to divide it may vary... You can use 60% (training) / 40% (testing), or 70% (training) / 30% (testing), or even 50/50. The most important part is that you **make sure that in the test set you have a well-distributed data set that covers all the possibilities.**"
      ],
      "metadata": {
        "id": "LwRUZnXdsMB2"
      }
    },
    {
      "cell_type": "code",
      "source": [
        "# Splits a dataset into train and test sets while ensuring that no rows with the same ID value appear in both sets.\n",
        "#\n",
        "# Parameters:\n",
        "#   df (data.frame): The dataset to be split.\n",
        "#   test_size (numeric): The proportion of the data to be used for the test set.\n",
        "#   id_column (character): The name of the column containing the IDs used to identify patients. (A patient in train should not be also in test)\n",
        "#   stratify (array-like): The values used for stratification. If NULL, stratification is not performed (optional).\n",
        "#   random_state (numeric): The random seed used for the split (optional).\n",
        "#\n",
        "# Returns:\n",
        "#   list: A list of two data.frames representing the train and test sets.\n",
        "\n",
        "train_test_split_with_id <- function(df, train_size, id_column, stratify=NULL, random_state=NULL) {\n",
        "  if (!is.null(stratify)) {\n",
        "    id_groups <- split(df, df[[id_column]])\n",
        "    ids <- sapply(id_groups, function(group) group[[id_column]][1])\n",
        "    ys <- sapply(id_groups, function(group) group[[stratify]][1])\n",
        "    \n",
        "    set.seed(random_state)\n",
        "    train_indices <- createDataPartition(ys, times=1, p=train_size, list=FALSE)\n",
        "    train_ids <- ids[train_indices]\n",
        "    test_ids <- ids[-train_indices]\n",
        "  } else {\n",
        "    unique_ids <- unique(df[[id_column]])\n",
        "    \n",
        "    set.seed(random_state)\n",
        "    train_indices <- createDataPartition(unique_ids, times=1, p=train_size, list=FALSE)\n",
        "    train_ids <- unique_ids[train_indices]\n",
        "    test_ids <- unique_ids[-train_indices]\n",
        "  }\n",
        "  \n",
        "  train <- df[df[[id_column]] %in% train_ids, ]\n",
        "  test <- df[df[[id_column]] %in% test_ids, ]\n",
        "  \n",
        "  cat(paste(\"The train shape is\", dim(train)[1], \"\\n\"))\n",
        "  cat(paste(\"The test shape is\", dim(test)[1], \"\\n\"))\n",
        "  \n",
        "  return(list(train=train, test=test))\n",
        "}\n"
      ],
      "metadata": {
        "id": "BVzkNkfFsOhZ"
      },
      "execution_count": 29,
      "outputs": []
    },
    {
      "cell_type": "markdown",
      "source": [
        "###### ✏️ Split your data\n",
        "Use the provided function to split your data into train and test. We have to split the dataset now so we can avoid data leakage during data imputation and data normalization"
      ],
      "metadata": {
        "id": "RcbYiAi0PFP0"
      }
    },
    {
      "cell_type": "code",
      "source": [
        "train_size <- 0.7\n",
        "id_column <- 'subject_id'\n",
        "stratify <- 'race_group'\n",
        "\n",
        "split_data <- train_test_split_with_id(df, train_size, id_column, stratify=stratify, random_state=1)\n",
        "\n",
        "train <- split_data$train\n",
        "test <- split_data$test"
      ],
      "metadata": {
        "colab": {
          "base_uri": "https://localhost:8080/"
        },
        "id": "L60Ly3JNxAZP",
        "outputId": "cc830680-0317-4cd0-8c77-1dcdac45f328"
      },
      "execution_count": 30,
      "outputs": [
        {
          "output_type": "stream",
          "name": "stdout",
          "text": [
            "The train shape is 14257 \n",
            "The test shape is 5784 \n"
          ]
        }
      ]
    },
    {
      "cell_type": "markdown",
      "source": [
        "### Data Imputation\n",
        "\n",
        "There are various imputation methods of different complexity, ranging from imputing using the most common value (mode) (usually used for categorical variables) or the average or median value depending on the distribution of the data (usually used for numerical variables), to imputation methods using machine learning algorithms to predict the missing value using the other variables as a reference. While any method of data imputation can be valid, you have to take care to avoid data leakage or adding bias when doing this process."
      ],
      "metadata": {
        "id": "TGfy5tf4SndZ"
      }
    },
    {
      "cell_type": "markdown",
      "source": [
        "As we have the columns with missing data, let's divide the columns into two sub groups:\n",
        "1. Categorical columns with missing\n",
        "2. Numerical columns with missing"
      ],
      "metadata": {
        "id": "Vsi0qe3cQzmV"
      }
    },
    {
      "cell_type": "markdown",
      "source": [
        "###### ✏️ Get numerical, categorical columns and columns with missing data\n",
        "\n",
        "Hint: You can use the function `get_categorical_numerical_variables` to get the list of categorical and mumerical columns. \n",
        "\n",
        "Hint 2: You can use the function `null_values` as part of the logic to get the columns with missing data"
      ],
      "metadata": {
        "id": "CPJYmaBJQUIN"
      }
    },
    {
      "cell_type": "code",
      "source": [
        "result"
      ],
      "metadata": {
        "colab": {
          "base_uri": "https://localhost:8080/",
          "height": 97
        },
        "id": "qZf5D7UYh6XQ",
        "outputId": "f8fd5109-5930-4c48-9ca6-9e6f9bddc5de"
      },
      "execution_count": 31,
      "outputs": [
        {
          "output_type": "display_data",
          "data": {
            "text/html": [
              "<ol>\n",
              "\t<li><style>\n",
              ".list-inline {list-style: none; margin:0; padding: 0}\n",
              ".list-inline>li {display: inline-block}\n",
              ".list-inline>li:not(:last-child)::after {content: \"\\00b7\"; padding: 0 .5ex}\n",
              "</style>\n",
              "<ol class=list-inline><li>'gender'</li><li>'language'</li><li>'insurance'</li><li>'ventilation_status'</li><li>'sofa_coag'</li><li>'sofa_renal'</li><li>'mortality_in'</li><li>'hidden_hypoxemia'</li><li>'invasive_vent'</li><li>'rrt'</li></ol>\n",
              "</li>\n",
              "\t<li><style>\n",
              ".list-inline {list-style: none; margin:0; padding: 0}\n",
              ".list-inline>li {display: inline-block}\n",
              ".list-inline>li:not(:last-child)::after {content: \"\\00b7\"; padding: 0 .5ex}\n",
              "</style>\n",
              "<ol class=list-inline><li>'anchor_age'</li><li>'SaO2'</li><li>'delta_SpO2'</li><li>'SpO2'</li><li>'ph'</li><li>'bicarbonate'</li><li>'rdw'</li><li>'platelet'</li><li>'CCI'</li><li>'chloride'</li><li>'calcium'</li><li>'FiO2'</li><li>'lactate'</li><li>'norepinephrine_equivalent_dose'</li><li>'ast'</li><li>'alt'</li><li>'ld_ldh'</li><li>'aniongap'</li><li>'albumin'</li><li>'potassium'</li><li>'mchc'</li><li>'BMI'</li><li>'mcv'</li><li>'sodium'</li><li>'SOFA_admission'</li><li>'mch'</li><li>'los_hospital'</li><li>'los_icu'</li></ol>\n",
              "</li>\n",
              "</ol>\n"
            ],
            "text/markdown": "1. 1. 'gender'\n2. 'language'\n3. 'insurance'\n4. 'ventilation_status'\n5. 'sofa_coag'\n6. 'sofa_renal'\n7. 'mortality_in'\n8. 'hidden_hypoxemia'\n9. 'invasive_vent'\n10. 'rrt'\n\n\n\n2. 1. 'anchor_age'\n2. 'SaO2'\n3. 'delta_SpO2'\n4. 'SpO2'\n5. 'ph'\n6. 'bicarbonate'\n7. 'rdw'\n8. 'platelet'\n9. 'CCI'\n10. 'chloride'\n11. 'calcium'\n12. 'FiO2'\n13. 'lactate'\n14. 'norepinephrine_equivalent_dose'\n15. 'ast'\n16. 'alt'\n17. 'ld_ldh'\n18. 'aniongap'\n19. 'albumin'\n20. 'potassium'\n21. 'mchc'\n22. 'BMI'\n23. 'mcv'\n24. 'sodium'\n25. 'SOFA_admission'\n26. 'mch'\n27. 'los_hospital'\n28. 'los_icu'\n\n\n\n\n\n",
            "text/latex": "\\begin{enumerate}\n\\item \\begin{enumerate*}\n\\item 'gender'\n\\item 'language'\n\\item 'insurance'\n\\item 'ventilation\\_status'\n\\item 'sofa\\_coag'\n\\item 'sofa\\_renal'\n\\item 'mortality\\_in'\n\\item 'hidden\\_hypoxemia'\n\\item 'invasive\\_vent'\n\\item 'rrt'\n\\end{enumerate*}\n\n\\item \\begin{enumerate*}\n\\item 'anchor\\_age'\n\\item 'SaO2'\n\\item 'delta\\_SpO2'\n\\item 'SpO2'\n\\item 'ph'\n\\item 'bicarbonate'\n\\item 'rdw'\n\\item 'platelet'\n\\item 'CCI'\n\\item 'chloride'\n\\item 'calcium'\n\\item 'FiO2'\n\\item 'lactate'\n\\item 'norepinephrine\\_equivalent\\_dose'\n\\item 'ast'\n\\item 'alt'\n\\item 'ld\\_ldh'\n\\item 'aniongap'\n\\item 'albumin'\n\\item 'potassium'\n\\item 'mchc'\n\\item 'BMI'\n\\item 'mcv'\n\\item 'sodium'\n\\item 'SOFA\\_admission'\n\\item 'mch'\n\\item 'los\\_hospital'\n\\item 'los\\_icu'\n\\end{enumerate*}\n\n\\end{enumerate}\n",
            "text/plain": [
              "[[1]]\n",
              " [1] \"gender\"             \"language\"           \"insurance\"         \n",
              " [4] \"ventilation_status\" \"sofa_coag\"          \"sofa_renal\"        \n",
              " [7] \"mortality_in\"       \"hidden_hypoxemia\"   \"invasive_vent\"     \n",
              "[10] \"rrt\"               \n",
              "\n",
              "[[2]]\n",
              " [1] \"anchor_age\"                     \"SaO2\"                          \n",
              " [3] \"delta_SpO2\"                     \"SpO2\"                          \n",
              " [5] \"ph\"                             \"bicarbonate\"                   \n",
              " [7] \"rdw\"                            \"platelet\"                      \n",
              " [9] \"CCI\"                            \"chloride\"                      \n",
              "[11] \"calcium\"                        \"FiO2\"                          \n",
              "[13] \"lactate\"                        \"norepinephrine_equivalent_dose\"\n",
              "[15] \"ast\"                            \"alt\"                           \n",
              "[17] \"ld_ldh\"                         \"aniongap\"                      \n",
              "[19] \"albumin\"                        \"potassium\"                     \n",
              "[21] \"mchc\"                           \"BMI\"                           \n",
              "[23] \"mcv\"                            \"sodium\"                        \n",
              "[25] \"SOFA_admission\"                 \"mch\"                           \n",
              "[27] \"los_hospital\"                   \"los_icu\"                       \n"
            ]
          },
          "metadata": {}
        }
      ]
    },
    {
      "cell_type": "code",
      "source": [
        "# Get numerical and categorical columns:\n",
        "limit <- 10\n",
        "ignore <- c()\n",
        "\n",
        "result <- get_categorical_numerical_variables(df, limit = limit, ignore = ignore)\n",
        "\n",
        "categorical_cols <- result[[1]]\n",
        "numerical_cols <- result[[2]]"
      ],
      "metadata": {
        "id": "qExWrf1JxPoU",
        "colab": {
          "base_uri": "https://localhost:8080/"
        },
        "outputId": "976c1415-a3f6-46e3-b43e-67931b9e3695"
      },
      "execution_count": 32,
      "outputs": [
        {
          "output_type": "stream",
          "name": "stdout",
          "text": [
            "The column subject_id has 7728 unique values, so it is numerical\n",
            "The column stay_id has 8208 unique values, so it is numerical\n",
            "The column gender has 2 unique values, so it is categorical\n",
            "The column anchor_age has 73 unique values, so it is numerical\n",
            "The column race_group has 5 unique values, so it is categorical\n",
            "The column language has 2 unique values, so it is categorical\n",
            "The column insurance has 3 unique values, so it is categorical\n",
            "The column SaO2_timestamp has 20017 unique values, so it is numerical\n",
            "The column SaO2 has 41 unique values, so it is numerical\n",
            "The column delta_SpO2 has 11 unique values, so it is numerical\n",
            "The column SpO2 has 36 unique values, so it is numerical\n",
            "The column ventilation_status has 7 unique values, so it is categorical\n",
            "The column ph has 80 unique values, so it is numerical\n",
            "The column bicarbonate has 49 unique values, so it is numerical\n",
            "The column rdw has 199 unique values, so it is numerical\n",
            "The column platelet has 657 unique values, so it is numerical\n",
            "The column CCI has 18 unique values, so it is numerical\n",
            "The column chloride has 62 unique values, so it is numerical\n",
            "The column calcium has 107 unique values, so it is numerical\n",
            "The column FiO2 has 37 unique values, so it is numerical\n",
            "The column lactate has 204 unique values, so it is numerical\n",
            "The column norepinephrine_equivalent_dose has 3711 unique values, so it is numerical\n",
            "The column ast has 1295 unique values, so it is numerical\n",
            "The column alt has 1060 unique values, so it is numerical\n",
            "The column ld_ldh has 1559 unique values, so it is numerical\n",
            "The column sofa_coag has 6 unique values, so it is categorical\n",
            "The column aniongap has 48 unique values, so it is numerical\n",
            "The column albumin has 49 unique values, so it is numerical\n",
            "The column potassium has 67 unique values, so it is numerical\n",
            "The column sofa_renal has 6 unique values, so it is categorical\n",
            "The column mchc has 131 unique values, so it is numerical\n",
            "The column BMI has 3867 unique values, so it is numerical\n",
            "The column mcv has 74 unique values, so it is numerical\n",
            "The column sodium has 54 unique values, so it is numerical\n",
            "The column SOFA_admission has 22 unique values, so it is numerical\n",
            "The column mch has 198 unique values, so it is numerical\n",
            "The column los_hospital has 123 unique values, so it is numerical\n",
            "The column los_icu has 855 unique values, so it is numerical\n",
            "The column mortality_in has 2 unique values, so it is categorical\n",
            "The column hidden_hypoxemia has 2 unique values, so it is categorical\n",
            "The column invasive_vent has 2 unique values, so it is categorical\n",
            "The column rrt has 2 unique values, so it is categorical\n"
          ]
        }
      ]
    },
    {
      "cell_type": "code",
      "source": [
        "# Get the columns with missing data\n",
        "columns_missing <- names(train)[apply(train, 2, function(x) any(is.na(x)))]\n",
        "columns_missing"
      ],
      "metadata": {
        "colab": {
          "base_uri": "https://localhost:8080/",
          "height": 52
        },
        "id": "0RLwYEoKynP_",
        "outputId": "241ff306-0e7d-41f6-c851-9ee699aacf32"
      },
      "execution_count": 33,
      "outputs": [
        {
          "output_type": "display_data",
          "data": {
            "text/html": [
              "<style>\n",
              ".list-inline {list-style: none; margin:0; padding: 0}\n",
              ".list-inline>li {display: inline-block}\n",
              ".list-inline>li:not(:last-child)::after {content: \"\\00b7\"; padding: 0 .5ex}\n",
              "</style>\n",
              "<ol class=list-inline><li>'ph'</li><li>'bicarbonate'</li><li>'rdw'</li><li>'platelet'</li><li>'chloride'</li><li>'calcium'</li><li>'FiO2'</li><li>'lactate'</li><li>'norepinephrine_equivalent_dose'</li><li>'ast'</li><li>'alt'</li><li>'ld_ldh'</li><li>'sofa_coag'</li><li>'aniongap'</li><li>'albumin'</li><li>'potassium'</li><li>'sofa_renal'</li><li>'mchc'</li><li>'BMI'</li><li>'mcv'</li><li>'sodium'</li><li>'mch'</li></ol>\n"
            ],
            "text/markdown": "1. 'ph'\n2. 'bicarbonate'\n3. 'rdw'\n4. 'platelet'\n5. 'chloride'\n6. 'calcium'\n7. 'FiO2'\n8. 'lactate'\n9. 'norepinephrine_equivalent_dose'\n10. 'ast'\n11. 'alt'\n12. 'ld_ldh'\n13. 'sofa_coag'\n14. 'aniongap'\n15. 'albumin'\n16. 'potassium'\n17. 'sofa_renal'\n18. 'mchc'\n19. 'BMI'\n20. 'mcv'\n21. 'sodium'\n22. 'mch'\n\n\n",
            "text/latex": "\\begin{enumerate*}\n\\item 'ph'\n\\item 'bicarbonate'\n\\item 'rdw'\n\\item 'platelet'\n\\item 'chloride'\n\\item 'calcium'\n\\item 'FiO2'\n\\item 'lactate'\n\\item 'norepinephrine\\_equivalent\\_dose'\n\\item 'ast'\n\\item 'alt'\n\\item 'ld\\_ldh'\n\\item 'sofa\\_coag'\n\\item 'aniongap'\n\\item 'albumin'\n\\item 'potassium'\n\\item 'sofa\\_renal'\n\\item 'mchc'\n\\item 'BMI'\n\\item 'mcv'\n\\item 'sodium'\n\\item 'mch'\n\\end{enumerate*}\n",
            "text/plain": [
              " [1] \"ph\"                             \"bicarbonate\"                   \n",
              " [3] \"rdw\"                            \"platelet\"                      \n",
              " [5] \"chloride\"                       \"calcium\"                       \n",
              " [7] \"FiO2\"                           \"lactate\"                       \n",
              " [9] \"norepinephrine_equivalent_dose\" \"ast\"                           \n",
              "[11] \"alt\"                            \"ld_ldh\"                        \n",
              "[13] \"sofa_coag\"                      \"aniongap\"                      \n",
              "[15] \"albumin\"                        \"potassium\"                     \n",
              "[17] \"sofa_renal\"                     \"mchc\"                          \n",
              "[19] \"BMI\"                            \"mcv\"                           \n",
              "[21] \"sodium\"                         \"mch\"                           "
            ]
          },
          "metadata": {}
        }
      ]
    },
    {
      "cell_type": "code",
      "source": [
        "#' Apply data imputation on missing values of columns by grouping the given columns.\n",
        "#'\n",
        "#' Important!!! \n",
        "#' If you apply a technique other than `new_category` on categorical variables\n",
        "#' or `new_category_numeric` on numerical variables, you should do it \n",
        "#' ONLY AFTER train-test split to avoid data leakage in the test set.\n",
        "#'\n",
        "#' @param df A Pandas DataFrame with the input data to apply data imputation.\n",
        "#' @param impute_cols A list with the column names to apply data imputation.\n",
        "#' @param test_df (Optional) A Pandas DataFrame with the test set to apply data imputation using train as reference.\n",
        "#' @param groupby_cols A list with the column names to group by the data if method='median', 'mean', or 'mode' (E.g.: groupby_cols=c('race_group', 'gender')).\n",
        "#' @param method A string with the method to apply data imputation. Available options are 'median', 'mean', 'mode', 'new_category' and 'new_category_numeric'.\n",
        "#'\n",
        "#' @return A Pandas DataFrame with the data after applying data imputation on missing values of columns.\n",
        "#'\n",
        "apply_data_imputation <- function(df, impute_cols, test_df=NULL, groupby_cols=NULL, method='new_category_numeric') {\n",
        "  \n",
        "  # Create an empty list to store the imputed values\n",
        "  imputer <- list()\n",
        "\n",
        "  for (col in impute_cols) { \n",
        "       \n",
        "    if (method == 'median') {\n",
        "      # Impute using median (for numerical values)\n",
        "      imputation_values <- aggregate(df[col], df[groupby_cols], median, na.rm = TRUE)\n",
        "      \n",
        "    } else if (method == 'mean') {\n",
        "      # Impute using mean (for numerical values)\n",
        "      imputation_values <- aggregate(df[col], df[groupby_cols], mean, na.rm = TRUE)\n",
        "      \n",
        "    } else if (method == 'mode') {\n",
        "      # Impute using mode (for categorical values)\n",
        "      imputation_values <- aggregate(df[col], df[groupby_cols], function(x) {\n",
        "        as.character(names(table(x))[which.max(table(x))])\n",
        "      })\n",
        "      \n",
        "    } else if (method == 'new_category') {\n",
        "      # Add a new category 'None' in the dataset (for categorical values)\n",
        "      new_category_val <- 'None'\n",
        "      imputer[[col]] <- new_category_val\n",
        "      df[col][is.na(df[col])] <- new_category_val\n",
        "      if (!is.null(test_df)) {\n",
        "        test_df[col][is.na(test_df[col])] <- new_category_val\n",
        "      }\n",
        "      \n",
        "    } else if (method == 'new_category_numeric') {\n",
        "      # Add an anomalous data in the dataset (for numerical values)\n",
        "      new_category_val <- 0\n",
        "      # If there's no 0, replace NaN with 0\n",
        "      if (!any(df[col] == 0, na.rm = TRUE)) {\n",
        "        new_category_val <- 0\n",
        "      }\n",
        "      # If there are no positive numbers, replace NaN with 1\n",
        "      else if (!any(df[col] >= 0, na.rm = TRUE)) {\n",
        "        new_category_val <- 1\n",
        "      }\n",
        "      # If there are no negative numbers, replace NaN with -1\n",
        "      else if (!any(df[col] <= 0, na.rm = TRUE)) {\n",
        "        new_category_val <- -1\n",
        "      } else {\n",
        "        # Replace with min value - 100\n",
        "        new_category_val <- min(df[col], na.rm=TRUE) - 100\n",
        "      }\n",
        "      \n",
        "      imputer[[col]] <- new_category_val\n",
        "      df[col][is.na(df[col])] <- new_category_val\n",
        "      if (!is.null(test_df)) {\n",
        "        test_df[col][is.na(test_df[col])] <- new_category_val\n",
        "      }\n",
        "      \n",
        "    }\n",
        "    \n",
        "    if (method %in% c('median', 'mean', 'mode')) {\n",
        "      imputer[[col]] <- imputation_values\n",
        "      # Fill missing values with the method of the corresponding group\n",
        "      if (any(is.na(df[col]))) {\n",
        "        df[col][is.na(df[col])] <- apply(df[is.na(df[col]), c(col, groupby_cols)], 1, function(x) {\n",
        "          x <- as.data.frame(t(x))\n",
        "          # Merge using inner join\n",
        "          method_values <- merge(x, imputation_values, by = groupby_cols)\n",
        "          imput_val <- method_values[, ncol(method_values)]\n",
        "          ifelse(is.na(x[col]), imput_val, x[col])\n",
        "        })\n",
        "      }\n",
        "      if (!is.null(test_df)) {\n",
        "        if (any(is.na(test_df[col]))) {\n",
        "          test_df[col][is.na(test_df[col])] <- apply(test_df[is.na(test_df[col]), c(col, groupby_cols)], 1, function(x) {\n",
        "          x <- as.data.frame(t(x))\n",
        "          # Merge using inner join\n",
        "          method_values <- merge(x, imputation_values, by = groupby_cols)\n",
        "          imput_val <- method_values[, ncol(method_values)]\n",
        "          ifelse(is.na(x[col]), imput_val, x[col])\n",
        "          })\n",
        "        }\n",
        "      }\n",
        "    }\n",
        "  }\n",
        "  \n",
        "  if (!is.null(test_df)) {\n",
        "    return(list(df, test_df, imputer))\n",
        "  } else {\n",
        "    return(list(df, imputer))\n",
        "  }\n",
        "}\n"
      ],
      "metadata": {
        "id": "PazIlvnOdOS9"
      },
      "execution_count": 34,
      "outputs": []
    },
    {
      "cell_type": "markdown",
      "source": [
        "###### ✏️ Apply data imputation to categorical variables\n",
        "\n",
        "1. Get from the categorical variables the list of categorical columns with missing data\n",
        "2. Use the function `apply_data_imputation` to impute the variables of train and test data. You can also use other methods of pandas or sklearn. But think about the possible bias that those methods could be adding to the dataset."
      ],
      "metadata": {
        "id": "nTFDHd8RKbqI"
      }
    },
    {
      "cell_type": "code",
      "source": [
        "# Get from columns with missing data the categorical columns\n",
        "categorical_cols_missing <- intersect(categorical_cols, columns_missing)\n",
        "categorical_cols_missing"
      ],
      "metadata": {
        "colab": {
          "base_uri": "https://localhost:8080/",
          "height": 34
        },
        "id": "NCNfYwpNKXRv",
        "outputId": "3b07e77d-eb35-4d11-90d4-cf956f192429"
      },
      "execution_count": 35,
      "outputs": [
        {
          "output_type": "display_data",
          "data": {
            "text/html": [
              "<style>\n",
              ".list-inline {list-style: none; margin:0; padding: 0}\n",
              ".list-inline>li {display: inline-block}\n",
              ".list-inline>li:not(:last-child)::after {content: \"\\00b7\"; padding: 0 .5ex}\n",
              "</style>\n",
              "<ol class=list-inline><li>'sofa_coag'</li><li>'sofa_renal'</li></ol>\n"
            ],
            "text/markdown": "1. 'sofa_coag'\n2. 'sofa_renal'\n\n\n",
            "text/latex": "\\begin{enumerate*}\n\\item 'sofa\\_coag'\n\\item 'sofa\\_renal'\n\\end{enumerate*}\n",
            "text/plain": [
              "[1] \"sofa_coag\"  \"sofa_renal\""
            ]
          },
          "metadata": {}
        }
      ]
    },
    {
      "cell_type": "markdown",
      "source": [
        "**Important❗❗❗** If you apply other technique than `new_category` on categorical variables. You should do it after train-test split otherwise you could be introducing a data leakage in the test set"
      ],
      "metadata": {
        "id": "90vB5xhDzJvC"
      }
    },
    {
      "cell_type": "code",
      "source": [
        "# Set the method and groupby columns\n",
        "method <- 'new_category'  # 'mode', 'new_category'\n",
        "groupby_cols <- c('race_group', 'gender')  # E.g. c('race_group', 'gender')\n",
        "\n",
        "# Apply data imputation\n",
        "train_test_imputed <- apply_data_imputation(train, impute_cols = categorical_cols_missing, method = method, groupby_cols = groupby_cols, test_df = test)\n",
        "train <- train_test_imputed[[1]]\n",
        "test <- train_test_imputed[[2]]\n",
        "imputer <- train_test_imputed[3]"
      ],
      "metadata": {
        "id": "KSws7IRAScbC"
      },
      "execution_count": 36,
      "outputs": []
    },
    {
      "cell_type": "markdown",
      "source": [
        "###### ✏️ Apply data imputation to Numerical variables\n",
        "\n",
        "1. Get from the numerical variables the list of numerical columns with missing data\n",
        "2. Use the function `apply_data_imputation` to impute the variables of train and test data. You can also use other methods of pandas or sklearn. But think about the possible bias that those methods could be adding to the dataset."
      ],
      "metadata": {
        "id": "OHwYtppJLNfd"
      }
    },
    {
      "cell_type": "code",
      "source": [
        "# Get from columns with missing data the numerical columns\n",
        "numerical_cols_missing <- intersect(numerical_cols, columns_missing)\n",
        "numerical_cols_missing"
      ],
      "metadata": {
        "colab": {
          "base_uri": "https://localhost:8080/",
          "height": 34
        },
        "id": "7TavY8buLUIP",
        "outputId": "fc4e7979-4aaf-462c-d805-7522b8bf3a04"
      },
      "execution_count": 37,
      "outputs": [
        {
          "output_type": "display_data",
          "data": {
            "text/html": [
              "<style>\n",
              ".list-inline {list-style: none; margin:0; padding: 0}\n",
              ".list-inline>li {display: inline-block}\n",
              ".list-inline>li:not(:last-child)::after {content: \"\\00b7\"; padding: 0 .5ex}\n",
              "</style>\n",
              "<ol class=list-inline><li>'ph'</li><li>'bicarbonate'</li><li>'rdw'</li><li>'platelet'</li><li>'chloride'</li><li>'calcium'</li><li>'FiO2'</li><li>'lactate'</li><li>'norepinephrine_equivalent_dose'</li><li>'ast'</li><li>'alt'</li><li>'ld_ldh'</li><li>'aniongap'</li><li>'albumin'</li><li>'potassium'</li><li>'mchc'</li><li>'BMI'</li><li>'mcv'</li><li>'sodium'</li><li>'mch'</li></ol>\n"
            ],
            "text/markdown": "1. 'ph'\n2. 'bicarbonate'\n3. 'rdw'\n4. 'platelet'\n5. 'chloride'\n6. 'calcium'\n7. 'FiO2'\n8. 'lactate'\n9. 'norepinephrine_equivalent_dose'\n10. 'ast'\n11. 'alt'\n12. 'ld_ldh'\n13. 'aniongap'\n14. 'albumin'\n15. 'potassium'\n16. 'mchc'\n17. 'BMI'\n18. 'mcv'\n19. 'sodium'\n20. 'mch'\n\n\n",
            "text/latex": "\\begin{enumerate*}\n\\item 'ph'\n\\item 'bicarbonate'\n\\item 'rdw'\n\\item 'platelet'\n\\item 'chloride'\n\\item 'calcium'\n\\item 'FiO2'\n\\item 'lactate'\n\\item 'norepinephrine\\_equivalent\\_dose'\n\\item 'ast'\n\\item 'alt'\n\\item 'ld\\_ldh'\n\\item 'aniongap'\n\\item 'albumin'\n\\item 'potassium'\n\\item 'mchc'\n\\item 'BMI'\n\\item 'mcv'\n\\item 'sodium'\n\\item 'mch'\n\\end{enumerate*}\n",
            "text/plain": [
              " [1] \"ph\"                             \"bicarbonate\"                   \n",
              " [3] \"rdw\"                            \"platelet\"                      \n",
              " [5] \"chloride\"                       \"calcium\"                       \n",
              " [7] \"FiO2\"                           \"lactate\"                       \n",
              " [9] \"norepinephrine_equivalent_dose\" \"ast\"                           \n",
              "[11] \"alt\"                            \"ld_ldh\"                        \n",
              "[13] \"aniongap\"                       \"albumin\"                       \n",
              "[15] \"potassium\"                      \"mchc\"                          \n",
              "[17] \"BMI\"                            \"mcv\"                           \n",
              "[19] \"sodium\"                         \"mch\"                           "
            ]
          },
          "metadata": {}
        }
      ]
    },
    {
      "cell_type": "markdown",
      "source": [
        "**Important ❗❗❗** If you apply other technique than `new_category_numeric` on numerical variables. You should do it after train-test split otherwise you could be introducing a data leakage in the test set"
      ],
      "metadata": {
        "id": "ZQHc5wKdzsb1"
      }
    },
    {
      "cell_type": "code",
      "source": [
        "method = 'new_category_numeric' # 'median', 'mean', 'new_category_numeric'\n",
        "groupby_cols = c('race_group', 'gender') # E.g. c('race_group', 'gender')\n",
        "\n",
        "# Apply data imputation\n",
        "train_test_imputed <- apply_data_imputation(train, impute_cols = numerical_cols_missing, method = method, groupby_cols = groupby_cols, test_df = test)\n",
        "train <- train_test_imputed[[1]]\n",
        "test <- train_test_imputed[[2]]\n",
        "imputer <- train_test_imputed[3]"
      ],
      "metadata": {
        "id": "tuTNR8qtLV48"
      },
      "execution_count": 38,
      "outputs": []
    },
    {
      "cell_type": "markdown",
      "source": [
        "###### ✏️ Let's check null values again\n",
        "\n",
        "Print the coluns with missing values (if any) in train and test set. \n",
        "\n",
        "There should be no columns with missing data, if so check the previous tasks"
      ],
      "metadata": {
        "id": "Xtkuor2lfY-H"
      }
    },
    {
      "cell_type": "code",
      "source": [
        "# Print columns with missing values in train dataset\n",
        "cat(rep(\"#\", 40), ' Null train: ', rep(\"#\", 40), \"\\n\")\n",
        "null_values(train)\n",
        "\n",
        "# Print columns with missing values in test dataset\n",
        "cat(rep(\"#\", 40), ' Null test: ', rep(\"#\", 40), \"\\n\")\n",
        "null_values(test)"
      ],
      "metadata": {
        "colab": {
          "base_uri": "https://localhost:8080/"
        },
        "id": "J1C2rHdzDVIO",
        "outputId": "d82b50e0-f039-484c-9d00-d682ee07e4e0"
      },
      "execution_count": 39,
      "outputs": [
        {
          "output_type": "stream",
          "name": "stdout",
          "text": [
            "# # # # # # # # # # # # # # # # # # # # # # # # # # # # # # # # # # # # # # # #  Null train:  # # # # # # # # # # # # # # # # # # # # # # # # # # # # # # # # # # # # # # # # \n",
            "[1] \"There aren't null values in the dataframe\"\n",
            "# # # # # # # # # # # # # # # # # # # # # # # # # # # # # # # # # # # # # # # #  Null test:  # # # # # # # # # # # # # # # # # # # # # # # # # # # # # # # # # # # # # # # # \n",
            "[1] \"There aren't null values in the dataframe\"\n"
          ]
        }
      ]
    },
    {
      "cell_type": "markdown",
      "source": [
        "### Encoding\n",
        "\n",
        "Since the machine learning model in the background models and finds patterns in our data. It only supports numeric values. For this reason, categorical variables must be coded to numeric values.\n",
        "\n",
        "Categorical variables can be of 3 types:\n",
        "- Binary variables: Binary variables can be represented with two values, 1 and 0. Examples are whether or not the variable belongs to a group.\n",
        "- Ordinal variables: Ordinal variables are a type of variables that have a specific order and can be represented with numeric variables through a label encoder. An example is High, Medium, and Low which can be represented as 3, 2, 1.\n",
        "- Nominal variables: Nominal variables are categorical variables that do not have a defined order, for these variables it is not recommended to use a label encoder, it is better to use one hot encoder in these cases."
      ],
      "metadata": {
        "id": "ojBX1nM1nE3W"
      }
    },
    {
      "cell_type": "markdown",
      "source": [
        "###### ✏️ Which type of categorical variables we have?\n",
        "\n",
        "From the list of categorical variables, provide:\n",
        "\n",
        "* List of binary variables\n",
        "* List of ordinal variables\n",
        "* List of Nominal variables\n",
        "\n",
        "Not necessarily must have variables of each type.\n",
        "\n",
        "Hint: you can use `unique(df$column)` to see the unique values in a specific column. You can use this information to make your decisions"
      ],
      "metadata": {
        "id": "Uqlk_-k_TRr8"
      }
    },
    {
      "cell_type": "code",
      "source": [
        "cat(\"Categorical:\\n\")\n",
        "print(categorical_cols)"
      ],
      "metadata": {
        "colab": {
          "base_uri": "https://localhost:8080/"
        },
        "id": "oJ3BioApnFMK",
        "outputId": "1d5d7217-e808-4ff7-9df5-1c3abcfbdb70"
      },
      "execution_count": 40,
      "outputs": [
        {
          "output_type": "stream",
          "name": "stdout",
          "text": [
            "Categorical:\n",
            " [1] \"gender\"             \"race_group\"         \"language\"          \n",
            " [4] \"insurance\"          \"ventilation_status\" \"sofa_coag\"         \n",
            " [7] \"sofa_renal\"         \"mortality_in\"       \"hidden_hypoxemia\"  \n",
            "[10] \"invasive_vent\"      \"rrt\"               \n"
          ]
        }
      ]
    },
    {
      "cell_type": "code",
      "source": [
        "for (column in categorical_cols) {\n",
        "  cat(\"Column '\", column, \"' has values: \", unique(train[[column]]), \"\\n\")\n",
        "}"
      ],
      "metadata": {
        "id": "4AVAghb6nQmK",
        "colab": {
          "base_uri": "https://localhost:8080/"
        },
        "outputId": "625b551b-3d59-4620-91ac-f9abce03f5ed"
      },
      "execution_count": 41,
      "outputs": [
        {
          "output_type": "stream",
          "name": "stdout",
          "text": [
            "Column ' gender ' has values:  F M \n",
            "Column ' race_group ' has values:  Black Other White Hispanic Asian \n",
            "Column ' language ' has values:  Proficient Limited Proficiency \n",
            "Column ' insurance ' has values:  Medicare Other Medicaid \n",
            "Column ' ventilation_status ' has values:  NonInvasiveVent InvasiveVent SupplementalOxygen  Tracheostomy HFNC None \n",
            "Column ' sofa_coag ' has values:  1 0 3 2 4 None \n",
            "Column ' sofa_renal ' has values:  0 2 1 3 4 None \n",
            "Column ' mortality_in ' has values:  1 0 \n",
            "Column ' hidden_hypoxemia ' has values:  0 1 \n",
            "Column ' invasive_vent ' has values:  0 1 \n",
            "Column ' rrt ' has values:  0 1 \n"
          ]
        }
      ]
    },
    {
      "cell_type": "markdown",
      "source": [
        "###### ✏️ Encode binary variables\n",
        "\n",
        "Machine learning models only understand numbers, so binary variables must be encoded as 1s and 0s. Replace the values in those columns with 1s and 0s. \n",
        "Also in r you have the option to convert the values to values of type factor."
      ],
      "metadata": {
        "id": "TiGW44npS-Xv"
      }
    },
    {
      "cell_type": "code",
      "source": [
        "train$gender <- ifelse(train$gender == 'F', 1, 0)\n",
        "test$gender <- ifelse(test$gender == 'F', 1, 0)\n",
        "\n",
        "train$language <- ifelse(train$language == 'Proficient', 1, 0)\n",
        "test$language <- ifelse(test$language == 'Proficient', 1, 0)"
      ],
      "metadata": {
        "id": "pbUYvdTtrAAj"
      },
      "execution_count": 42,
      "outputs": []
    },
    {
      "cell_type": "markdown",
      "source": [
        "###### ✏️ Encode ordinal variables\n",
        "\n",
        "You can use the function label_encoder to encode the ordinal variables as numeric variables."
      ],
      "metadata": {
        "id": "A271BKQxVWKc"
      }
    },
    {
      "cell_type": "code",
      "source": [
        "label_encoder <- function(df, cols, df_test = NULL) {\n",
        "  # This function applies label encoding to categorical variables in a data frame.\n",
        "  #\n",
        "  # Parameters:\n",
        "  #   - df: R data frame. The data frame to be encoded.\n",
        "  #   - cols: character vector. The column names to be encoded.\n",
        "  #   - df_test: R data frame (optional). The test data frame to be encoded using the same encoders as the training data.\n",
        "  #\n",
        "  # Returns:\n",
        "  #   - If df_test is NULL, the function returns a list containing the encoded data frame and a named list with the encoders used for each column.\n",
        "  #   - If df_test is provided, the function returns a list with the encoded training data frame, the encoded test data frame, and a named list with the encoders used for each column.\n",
        "  \n",
        "  encoders <- list()\n",
        "  for (col in cols) {\n",
        "    df[[col]] <- factor(df[[col]])\n",
        "    encoders[[col]] <- levels(df[[col]])\n",
        "    \n",
        "    if (!is.null(df_test)) {\n",
        "      df_test[[col]] <- factor(df_test[[col]], levels = encoders[[col]])\n",
        "    }\n",
        "  }\n",
        "  \n",
        "  if (is.null(df_test)) {\n",
        "    return(list(df = df, encoders = encoders))\n",
        "  } else {\n",
        "    return(list(df = df, df_test = df_test, encoders = encoders))\n",
        "  }\n",
        "}\n",
        "\n",
        "label_encoder_test <- function(df, encoders) {\n",
        "  # This function applies label encoding to categorical variables in a data frame using the encoders trained on the training data.\n",
        "  #\n",
        "  # Parameters:\n",
        "  #   - df: R data frame. The data frame to be encoded.\n",
        "  #   - encoders: named list. The encoders trained on the training data.\n",
        "  #\n",
        "  # Returns:\n",
        "  #   - The encoded data frame.\n",
        "  \n",
        "  for (col in names(encoders)) {\n",
        "    df[[col]] <- factor(df[[col]], levels = encoders[[col]])\n",
        "  }\n",
        "  \n",
        "  return(df)\n",
        "}\n"
      ],
      "metadata": {
        "id": "ZnENxfbLXGST"
      },
      "execution_count": 43,
      "outputs": []
    },
    {
      "cell_type": "code",
      "source": [
        "train$sofa_coag <- replace(train$sofa_coag, train$sofa_coag == \"None\", -1)\n",
        "test$sofa_coag <- replace(test$sofa_coag, test$sofa_coag == \"None\", -1)\n",
        "\n",
        "train$sofa_renal <- replace(train$sofa_renal, train$sofa_renal == \"None\", -1)\n",
        "test$sofa_renal <- replace(test$sofa_renal, test$sofa_renal == \"None\", -1)"
      ],
      "metadata": {
        "id": "Fa28bOmRZycF"
      },
      "execution_count": 44,
      "outputs": []
    },
    {
      "cell_type": "code",
      "source": [
        "### This maybe is not the case, but just to show how to use the function:\n",
        "trai_test_encoded = label_encoder(train, c('insurance'), df_test=test)\n",
        "train = trai_test_encoded$df\n",
        "test = trai_test_encoded$df_test"
      ],
      "metadata": {
        "id": "CLyfJtnV3Mzx"
      },
      "execution_count": 45,
      "outputs": []
    },
    {
      "cell_type": "markdown",
      "source": [
        "###### ✏️ Encode nominal variables\n",
        "\n",
        "You can use the function `column_to_one_hot` to encode the nominal variables to a [one-hot representation](https://lost-stats.github.io/Data_Manipulation/Creating_Dummy_Variables/creating_dummy_variables.html)."
      ],
      "metadata": {
        "id": "SQvRcqdRVXJV"
      }
    },
    {
      "cell_type": "code",
      "source": [
        "column_to_one_hot <- function(train_df, column, test_df=NULL) {\n",
        "  # Generate a one-hot representation of the values in the column\n",
        "  train_one_hot <- model.matrix(~ . - 1, data = train_df[column])\n",
        "  # Add the one-hot encoded columns to the DataFrame\n",
        "  train_df <- cbind(train_df, train_one_hot)\n",
        "  # Drop the original column\n",
        "  train_df[, column] <- NULL\n",
        "\n",
        "  if (!is.null(test_df)) {\n",
        "    test_one_hot <- model.matrix(~ . - 1, data = test_df[column])    \n",
        "    # Add missing columns in test data\n",
        "    missing_cols <- setdiff(colnames(train_one_hot), colnames(test_one_hot))\n",
        "    for (col in missing_cols) {\n",
        "      test_one_hot[, col] <- 0\n",
        "    }\n",
        "    # Ensure the order of columns in the test set is the same as in the train set\n",
        "    test_one_hot <- test_one_hot[, colnames(train_one_hot)]\n",
        "    # Add the one-hot encoded columns to the test DataFrame\n",
        "    test_df <- cbind(test_df, test_one_hot)\n",
        "    # Drop the original column\n",
        "    test_df[, column] <- NULL\n",
        "    \n",
        "    return(list(train_df, test_df))\n",
        "  } else {\n",
        "    return(train_df)\n",
        "  }\n",
        "}\n"
      ],
      "metadata": {
        "id": "61UE_CRi-cfb"
      },
      "execution_count": 46,
      "outputs": []
    },
    {
      "cell_type": "code",
      "source": [
        "# convert 'ventilation_status' column into one-hot encoding\n",
        "train$ventilation_status <- replace(train$ventilation_status, train$ventilation_status == \"None\", \"None_ventilation\")\n",
        "test$ventilation_status <- replace(test$ventilation_status, test$ventilation_status == \"None\", \"None_ventilation\")\n",
        "train_test <- column_to_one_hot(train, \"ventilation_status\", test)\n",
        "train <- train_test[[1]]\n",
        "test <- train_test[[2]]\n",
        "\n",
        "# convert 'race_group' column into one-hot encoding\n",
        "train$race_group <- replace(train$race_group, train$race_group == \"Other\", \"Other_race_group\")\n",
        "test$race_group <- replace(test$race_group, test$race_group == \"Other\", \"Other_race_group\")\n",
        "train_test <- column_to_one_hot(train, \"race_group\", test)\n",
        "train <- train_test[[1]]\n",
        "test <- train_test[[2]]\n",
        "\n",
        "# convert 'insurance' column into one-hot encoding\n",
        "train_test <- column_to_one_hot(train, \"insurance\", test)\n",
        "train <- train_test[[1]]\n",
        "test <- train_test[[2]]"
      ],
      "metadata": {
        "id": "j-Kl9LE_95Ve"
      },
      "execution_count": 47,
      "outputs": []
    },
    {
      "cell_type": "markdown",
      "source": [
        "### Feature Engineering\n",
        "\n",
        "Once we have cleaned the dataset we can engineer the features that can provide more information to the model to generate the predictions.\n",
        "\n",
        "We'll print the correlation to SpO2 as a reference to see the most correlated variables before and after generating the new features."
      ],
      "metadata": {
        "id": "2lt2Bd_Keu1U"
      }
    },
    {
      "cell_type": "code",
      "source": [
        "# Get variables correlated to SpO2\n",
        "columns_sao2 <- get_most_correlated(train, variable = \"SpO2\", n = 8)"
      ],
      "metadata": {
        "colab": {
          "base_uri": "https://localhost:8080/"
        },
        "id": "XohbidtbS6qe",
        "outputId": "e439237d-a2c0-4662-90eb-88e461324b0a"
      },
      "execution_count": 48,
      "outputs": [
        {
          "output_type": "stream",
          "name": "stdout",
          "text": [
            "# # # # # # # # # # # # # # # # # # # # # # # # # # # # # # # # # # # # # # # # SpO2 # # # # # # # # # # # # # # # # # # # # # # # # # # # # # # # # # # # # # # # # \n",
            "The 8 most correlated variables to variable SpO2 are:\n",
            "                          SaO2                       chloride \n",
            "                    0.57580967                     0.11021390 \n",
            "                       albumin                  invasive_vent \n",
            "                    0.10781653                     0.06931927 \n",
            "                          mchc ventilation_statusInvasiveVent \n",
            "                    0.06925094                     0.06860173 \n",
            "                            ph                     anchor_age \n",
            "                    0.05170796                     0.03436133 \n",
            "The 8 most inversely correlated variables to variable SpO2 are:\n",
            "                      aniongap                        lactate \n",
            "                   -0.16043060                    -0.15345840 \n",
            "                SOFA_admission                           FiO2 \n",
            "                   -0.13483831                    -0.13391283 \n",
            "norepinephrine_equivalent_dose               hidden_hypoxemia \n",
            "                   -0.13067964                    -0.12476659 \n",
            "                           ast                         ld_ldh \n",
            "                   -0.10236433                    -0.09798889 \n"
          ]
        }
      ]
    },
    {
      "cell_type": "code",
      "source": [
        "# Length of ICU stay in days for dead\n",
        "train$los_icu_dead <- ifelse(train$mortality_in == 1, train$los_icu, NA)\n",
        "test$los_icu_dead <- ifelse(test$mortality_in == 1, test$los_icu, NA)\n",
        "\n",
        "# Length of ICU stay in days for survivors\n",
        "train$los_icu_surv <- ifelse(train$mortality_in == 0, train$los_icu, NA)\n",
        "test$los_icu_surv <- ifelse(test$mortality_in == 0, test$los_icu, NA)"
      ],
      "metadata": {
        "id": "y7gi7_6Kes54"
      },
      "execution_count": 49,
      "outputs": []
    },
    {
      "cell_type": "code",
      "source": [
        "# Apply data imputation\n",
        "method = 'new_category_numeric' # 'median', 'mean', 'new_category_numeric', 'model'\n",
        "impute_cols = c('los_icu_dead', 'los_icu_surv')\n",
        "\n",
        "train_test_imputed <- apply_data_imputation(train, impute_cols = impute_cols, method = method, test_df = test)\n",
        "train <- train_test_imputed[[1]]\n",
        "test <- train_test_imputed[[2]]"
      ],
      "metadata": {
        "id": "kN3sRd5TCiZ0"
      },
      "execution_count": 50,
      "outputs": []
    },
    {
      "cell_type": "code",
      "source": [
        "# Get variables correlated to SpO2\n",
        "columns_sao2 <- get_most_correlated(train, variable = \"SpO2\", n = 8)"
      ],
      "metadata": {
        "id": "ZmrafVfees8d",
        "colab": {
          "base_uri": "https://localhost:8080/"
        },
        "outputId": "e74e7fb1-a118-4b8f-eb26-91dd6ab81ebf"
      },
      "execution_count": 51,
      "outputs": [
        {
          "output_type": "stream",
          "name": "stdout",
          "text": [
            "# # # # # # # # # # # # # # # # # # # # # # # # # # # # # # # # # # # # # # # # SpO2 # # # # # # # # # # # # # # # # # # # # # # # # # # # # # # # # # # # # # # # # \n",
            "The 8 most correlated variables to variable SpO2 are:\n",
            "                          SaO2                       chloride \n",
            "                    0.57580967                     0.11021390 \n",
            "                       albumin                  invasive_vent \n",
            "                    0.10781653                     0.06931927 \n",
            "                          mchc ventilation_statusInvasiveVent \n",
            "                    0.06925094                     0.06860173 \n",
            "                            ph                     anchor_age \n",
            "                    0.05170796                     0.03436133 \n",
            "The 8 most inversely correlated variables to variable SpO2 are:\n",
            "                      aniongap                        lactate \n",
            "                   -0.16043060                    -0.15345840 \n",
            "                SOFA_admission                           FiO2 \n",
            "                   -0.13483831                    -0.13391283 \n",
            "norepinephrine_equivalent_dose               hidden_hypoxemia \n",
            "                   -0.13067964                    -0.12476659 \n",
            "                           ast                         ld_ldh \n",
            "                   -0.10236433                    -0.09798889 \n"
          ]
        }
      ]
    },
    {
      "cell_type": "markdown",
      "source": [
        "Surprise! we can see how before the correlation `los_icu` and `mortality_in` were not there, but after the feature engineering the new feature `los_icu_dead` is there! \n",
        "\n",
        "That shows the importance of being able to do good feature engineering."
      ],
      "metadata": {
        "id": "Gd5hOGIVTtTy"
      }
    },
    {
      "cell_type": "markdown",
      "source": [
        "###### ✏️ Create your own features (Optional)\n",
        "\n",
        "Use the dataset to generate new features"
      ],
      "metadata": {
        "id": "XvY4nJDzW42S"
      }
    },
    {
      "cell_type": "markdown",
      "source": [
        "### Normalization:\n",
        "Data normalization is an important step in machine learning because it helps to ensure that features are on similar scales, which can improve the performance of many machine learning algorithms.\n",
        "\n",
        "When features are not on similar scales, some algorithms may be more heavily influenced by certain features than others, which can lead to suboptimal performance. Additionally, some algorithms (such as those based on distance calculations) can be sensitive to differences in scale between features, which can lead to incorrect results.\n",
        "\n",
        "By normalizing the data, we can ensure that each feature contributes equally to the model, regardless of its scale. This can lead to better accuracy and more robust models."
      ],
      "metadata": {
        "id": "1kXGwnxLjWJF"
      }
    },
    {
      "cell_type": "code",
      "source": [
        "normalize_data <- function(train_data, test_data=NULL, scaler=NULL, ignore_cols=character()) {\n",
        "  # Filter out columns to ignore\n",
        "  train_data_filtered <- train_data[, !(colnames(train_data) %in% ignore_cols)]\n",
        "  \n",
        "  if (is.null(scaler)) {\n",
        "    scaler <- preProcess(train_data_filtered, method=\"range\")\n",
        "  }\n",
        "\n",
        "  normalized_train <- predict(scaler, train_data_filtered)\n",
        "  normalized_train_df <- as.data.frame(normalized_train)\n",
        "  colnames(normalized_train_df) <- colnames(train_data_filtered)\n",
        "  \n",
        "  if (!is.null(test_data)) {\n",
        "    test_data_filtered <- test_data[, !(colnames(test_data) %in% ignore_cols)]\n",
        "    normalized_test <- predict(scaler, test_data_filtered)\n",
        "    normalized_test_df <- as.data.frame(normalized_test)\n",
        "    colnames(normalized_test_df) <- colnames(test_data_filtered)\n",
        "\n",
        "    return(list(normalized_train_df, normalized_test_df, scaler))\n",
        "  } else {\n",
        "    return(list(normalized_train_df, scaler))\n",
        "  }\n",
        "}"
      ],
      "metadata": {
        "id": "S2UttMiAjWU0"
      },
      "execution_count": 52,
      "outputs": []
    },
    {
      "cell_type": "markdown",
      "source": [
        "###### ✏️ Normalize your data\n",
        "\n",
        "Use the function to normalize the data. Remember to exclude information that does not contribute to the final model, such as identifiers.\n",
        "\n",
        "Feel free to include other data [normalization methods](https://www.pluralsight.com/guides/normalizing-data-r)."
      ],
      "metadata": {
        "id": "DMtjK8r-XDmp"
      }
    },
    {
      "cell_type": "code",
      "source": [
        "ignore_cols = c('stay_id', 'subject_id', 'SaO2_timestamp')\n",
        "normalizar_train_test = normalize_data(train, test_data=test, ignore_cols=ignore_cols)\n",
        "normalized_train = normalizar_train_test[[1]]\n",
        "normalized_test = normalizar_train_test[[2]]\n",
        "scaler = normalizar_train_test[[3]]"
      ],
      "metadata": {
        "id": "qA8jd0uqmhAt"
      },
      "execution_count": 53,
      "outputs": []
    },
    {
      "cell_type": "markdown",
      "source": [
        "### Class Imbalance\n",
        "In order to allow you to play with other methods for data balancing such as modifying the weights of the model. The dataset will be delivered unbalanced. However it is important that you play around with different methods such as undersampling or oversampling to balance the training data."
      ],
      "metadata": {
        "id": "qeAp94vzQ7_Y"
      }
    },
    {
      "cell_type": "markdown",
      "source": [
        "### Save the file!\n",
        "Finally let's save the dataset as a csv file! 😀"
      ],
      "metadata": {
        "id": "hKqDpYhNpLcC"
      }
    },
    {
      "cell_type": "code",
      "source": [
        "head(normalized_train)"
      ],
      "metadata": {
        "colab": {
          "base_uri": "https://localhost:8080/",
          "height": 306
        },
        "id": "WY9spVmopc1T",
        "outputId": "b36202b9-3e89-416a-d0a1-e7715c3e092c"
      },
      "execution_count": 54,
      "outputs": [
        {
          "output_type": "display_data",
          "data": {
            "text/html": [
              "<table class=\"dataframe\">\n",
              "<caption>A data.frame: 6 × 53</caption>\n",
              "<thead>\n",
              "\t<tr><th></th><th scope=col>gender</th><th scope=col>anchor_age</th><th scope=col>language</th><th scope=col>SaO2</th><th scope=col>delta_SpO2</th><th scope=col>SpO2</th><th scope=col>ph</th><th scope=col>bicarbonate</th><th scope=col>rdw</th><th scope=col>platelet</th><th scope=col>⋯</th><th scope=col>race_groupAsian</th><th scope=col>race_groupBlack</th><th scope=col>race_groupHispanic</th><th scope=col>race_groupOther_race_group</th><th scope=col>race_groupWhite</th><th scope=col>insuranceMedicaid</th><th scope=col>insuranceMedicare</th><th scope=col>insuranceOther</th><th scope=col>los_icu_dead</th><th scope=col>los_icu_surv</th></tr>\n",
              "\t<tr><th></th><th scope=col>&lt;dbl&gt;</th><th scope=col>&lt;dbl&gt;</th><th scope=col>&lt;dbl&gt;</th><th scope=col>&lt;dbl&gt;</th><th scope=col>&lt;dbl&gt;</th><th scope=col>&lt;dbl&gt;</th><th scope=col>&lt;dbl&gt;</th><th scope=col>&lt;dbl&gt;</th><th scope=col>&lt;dbl&gt;</th><th scope=col>&lt;dbl&gt;</th><th scope=col>⋯</th><th scope=col>&lt;dbl&gt;</th><th scope=col>&lt;dbl&gt;</th><th scope=col>&lt;dbl&gt;</th><th scope=col>&lt;dbl&gt;</th><th scope=col>&lt;dbl&gt;</th><th scope=col>&lt;dbl&gt;</th><th scope=col>&lt;dbl&gt;</th><th scope=col>&lt;dbl&gt;</th><th scope=col>&lt;dbl&gt;</th><th scope=col>&lt;dbl&gt;</th></tr>\n",
              "</thead>\n",
              "<tbody>\n",
              "\t<tr><th scope=row>1</th><td>1</td><td>0.6849315</td><td>1</td><td>0.7142857</td><td>0.6</td><td>0.6857143</td><td>0.9672346</td><td>0.62</td><td>0.4901961</td><td>0.1167883</td><td>⋯</td><td>0</td><td>1</td><td>0</td><td>0</td><td>0</td><td>0</td><td>1</td><td>0</td><td>0.1103092</td><td>0.00000000</td></tr>\n",
              "\t<tr><th scope=row>2</th><td>1</td><td>0.4794521</td><td>1</td><td>0.9714286</td><td>1.0</td><td>0.9714286</td><td>0.9606815</td><td>0.46</td><td>0.3669468</td><td>0.2060016</td><td>⋯</td><td>0</td><td>0</td><td>0</td><td>1</td><td>0</td><td>0</td><td>1</td><td>0</td><td>0.0000000</td><td>0.01267813</td></tr>\n",
              "\t<tr><th scope=row>3</th><td>1</td><td>0.8493151</td><td>1</td><td>0.9142857</td><td>1.0</td><td>1.0000000</td><td>0.9672346</td><td>0.52</td><td>0.4005602</td><td>0.1484185</td><td>⋯</td><td>0</td><td>0</td><td>0</td><td>0</td><td>1</td><td>0</td><td>1</td><td>0</td><td>0.0000000</td><td>0.06879607</td></tr>\n",
              "\t<tr><th scope=row>4</th><td>1</td><td>0.8493151</td><td>1</td><td>0.9428571</td><td>0.7</td><td>1.0000000</td><td>0.9777195</td><td>0.48</td><td>0.4089636</td><td>0.1062449</td><td>⋯</td><td>0</td><td>0</td><td>0</td><td>0</td><td>1</td><td>0</td><td>1</td><td>0</td><td>0.0000000</td><td>0.06879607</td></tr>\n",
              "\t<tr><th scope=row>5</th><td>0</td><td>0.5205479</td><td>1</td><td>0.9142857</td><td>0.0</td><td>0.9714286</td><td>0.9593709</td><td>0.50</td><td>0.3809524</td><td>0.1411192</td><td>⋯</td><td>0</td><td>0</td><td>0</td><td>1</td><td>0</td><td>0</td><td>0</td><td>1</td><td>0.0000000</td><td>0.01022113</td></tr>\n",
              "\t<tr><th scope=row>6</th><td>0</td><td>0.5205479</td><td>1</td><td>0.9714286</td><td>0.6</td><td>1.0000000</td><td>0.9619921</td><td>0.48</td><td>0.3977591</td><td>0.1370641</td><td>⋯</td><td>0</td><td>0</td><td>0</td><td>1</td><td>0</td><td>0</td><td>0</td><td>1</td><td>0.0000000</td><td>0.01022113</td></tr>\n",
              "</tbody>\n",
              "</table>\n"
            ],
            "text/markdown": "\nA data.frame: 6 × 53\n\n| <!--/--> | gender &lt;dbl&gt; | anchor_age &lt;dbl&gt; | language &lt;dbl&gt; | SaO2 &lt;dbl&gt; | delta_SpO2 &lt;dbl&gt; | SpO2 &lt;dbl&gt; | ph &lt;dbl&gt; | bicarbonate &lt;dbl&gt; | rdw &lt;dbl&gt; | platelet &lt;dbl&gt; | ⋯ ⋯ | race_groupAsian &lt;dbl&gt; | race_groupBlack &lt;dbl&gt; | race_groupHispanic &lt;dbl&gt; | race_groupOther_race_group &lt;dbl&gt; | race_groupWhite &lt;dbl&gt; | insuranceMedicaid &lt;dbl&gt; | insuranceMedicare &lt;dbl&gt; | insuranceOther &lt;dbl&gt; | los_icu_dead &lt;dbl&gt; | los_icu_surv &lt;dbl&gt; |\n|---|---|---|---|---|---|---|---|---|---|---|---|---|---|---|---|---|---|---|---|---|---|\n| 1 | 1 | 0.6849315 | 1 | 0.7142857 | 0.6 | 0.6857143 | 0.9672346 | 0.62 | 0.4901961 | 0.1167883 | ⋯ | 0 | 1 | 0 | 0 | 0 | 0 | 1 | 0 | 0.1103092 | 0.00000000 |\n| 2 | 1 | 0.4794521 | 1 | 0.9714286 | 1.0 | 0.9714286 | 0.9606815 | 0.46 | 0.3669468 | 0.2060016 | ⋯ | 0 | 0 | 0 | 1 | 0 | 0 | 1 | 0 | 0.0000000 | 0.01267813 |\n| 3 | 1 | 0.8493151 | 1 | 0.9142857 | 1.0 | 1.0000000 | 0.9672346 | 0.52 | 0.4005602 | 0.1484185 | ⋯ | 0 | 0 | 0 | 0 | 1 | 0 | 1 | 0 | 0.0000000 | 0.06879607 |\n| 4 | 1 | 0.8493151 | 1 | 0.9428571 | 0.7 | 1.0000000 | 0.9777195 | 0.48 | 0.4089636 | 0.1062449 | ⋯ | 0 | 0 | 0 | 0 | 1 | 0 | 1 | 0 | 0.0000000 | 0.06879607 |\n| 5 | 0 | 0.5205479 | 1 | 0.9142857 | 0.0 | 0.9714286 | 0.9593709 | 0.50 | 0.3809524 | 0.1411192 | ⋯ | 0 | 0 | 0 | 1 | 0 | 0 | 0 | 1 | 0.0000000 | 0.01022113 |\n| 6 | 0 | 0.5205479 | 1 | 0.9714286 | 0.6 | 1.0000000 | 0.9619921 | 0.48 | 0.3977591 | 0.1370641 | ⋯ | 0 | 0 | 0 | 1 | 0 | 0 | 0 | 1 | 0.0000000 | 0.01022113 |\n\n",
            "text/latex": "A data.frame: 6 × 53\n\\begin{tabular}{r|lllllllllllllllllllll}\n  & gender & anchor\\_age & language & SaO2 & delta\\_SpO2 & SpO2 & ph & bicarbonate & rdw & platelet & ⋯ & race\\_groupAsian & race\\_groupBlack & race\\_groupHispanic & race\\_groupOther\\_race\\_group & race\\_groupWhite & insuranceMedicaid & insuranceMedicare & insuranceOther & los\\_icu\\_dead & los\\_icu\\_surv\\\\\n  & <dbl> & <dbl> & <dbl> & <dbl> & <dbl> & <dbl> & <dbl> & <dbl> & <dbl> & <dbl> & ⋯ & <dbl> & <dbl> & <dbl> & <dbl> & <dbl> & <dbl> & <dbl> & <dbl> & <dbl> & <dbl>\\\\\n\\hline\n\t1 & 1 & 0.6849315 & 1 & 0.7142857 & 0.6 & 0.6857143 & 0.9672346 & 0.62 & 0.4901961 & 0.1167883 & ⋯ & 0 & 1 & 0 & 0 & 0 & 0 & 1 & 0 & 0.1103092 & 0.00000000\\\\\n\t2 & 1 & 0.4794521 & 1 & 0.9714286 & 1.0 & 0.9714286 & 0.9606815 & 0.46 & 0.3669468 & 0.2060016 & ⋯ & 0 & 0 & 0 & 1 & 0 & 0 & 1 & 0 & 0.0000000 & 0.01267813\\\\\n\t3 & 1 & 0.8493151 & 1 & 0.9142857 & 1.0 & 1.0000000 & 0.9672346 & 0.52 & 0.4005602 & 0.1484185 & ⋯ & 0 & 0 & 0 & 0 & 1 & 0 & 1 & 0 & 0.0000000 & 0.06879607\\\\\n\t4 & 1 & 0.8493151 & 1 & 0.9428571 & 0.7 & 1.0000000 & 0.9777195 & 0.48 & 0.4089636 & 0.1062449 & ⋯ & 0 & 0 & 0 & 0 & 1 & 0 & 1 & 0 & 0.0000000 & 0.06879607\\\\\n\t5 & 0 & 0.5205479 & 1 & 0.9142857 & 0.0 & 0.9714286 & 0.9593709 & 0.50 & 0.3809524 & 0.1411192 & ⋯ & 0 & 0 & 0 & 1 & 0 & 0 & 0 & 1 & 0.0000000 & 0.01022113\\\\\n\t6 & 0 & 0.5205479 & 1 & 0.9714286 & 0.6 & 1.0000000 & 0.9619921 & 0.48 & 0.3977591 & 0.1370641 & ⋯ & 0 & 0 & 0 & 1 & 0 & 0 & 0 & 1 & 0.0000000 & 0.01022113\\\\\n\\end{tabular}\n",
            "text/plain": [
              "  gender anchor_age language SaO2      delta_SpO2 SpO2      ph       \n",
              "1 1      0.6849315  1        0.7142857 0.6        0.6857143 0.9672346\n",
              "2 1      0.4794521  1        0.9714286 1.0        0.9714286 0.9606815\n",
              "3 1      0.8493151  1        0.9142857 1.0        1.0000000 0.9672346\n",
              "4 1      0.8493151  1        0.9428571 0.7        1.0000000 0.9777195\n",
              "5 0      0.5205479  1        0.9142857 0.0        0.9714286 0.9593709\n",
              "6 0      0.5205479  1        0.9714286 0.6        1.0000000 0.9619921\n",
              "  bicarbonate rdw       platelet  ⋯ race_groupAsian race_groupBlack\n",
              "1 0.62        0.4901961 0.1167883 ⋯ 0               1              \n",
              "2 0.46        0.3669468 0.2060016 ⋯ 0               0              \n",
              "3 0.52        0.4005602 0.1484185 ⋯ 0               0              \n",
              "4 0.48        0.4089636 0.1062449 ⋯ 0               0              \n",
              "5 0.50        0.3809524 0.1411192 ⋯ 0               0              \n",
              "6 0.48        0.3977591 0.1370641 ⋯ 0               0              \n",
              "  race_groupHispanic race_groupOther_race_group race_groupWhite\n",
              "1 0                  0                          0              \n",
              "2 0                  1                          0              \n",
              "3 0                  0                          1              \n",
              "4 0                  0                          1              \n",
              "5 0                  1                          0              \n",
              "6 0                  1                          0              \n",
              "  insuranceMedicaid insuranceMedicare insuranceOther los_icu_dead los_icu_surv\n",
              "1 0                 1                 0              0.1103092    0.00000000  \n",
              "2 0                 1                 0              0.0000000    0.01267813  \n",
              "3 0                 1                 0              0.0000000    0.06879607  \n",
              "4 0                 1                 0              0.0000000    0.06879607  \n",
              "5 0                 0                 1              0.0000000    0.01022113  \n",
              "6 0                 0                 1              0.0000000    0.01022113  "
            ]
          },
          "metadata": {}
        }
      ]
    },
    {
      "cell_type": "markdown",
      "source": [
        "###### ✏️ Save your train and test dataset as a csv file:\n",
        "\n",
        "Hint: use `write.csv(df, file = \"path/data_clean.csv\", row.names = FALSE)`"
      ],
      "metadata": {
        "id": "GzWHbaIbXx6d"
      }
    },
    {
      "cell_type": "code",
      "source": [
        "##### Set the path to your output datasets:\n",
        "\n",
        "# Dataset Path:\n",
        "out_train <- 'oxygen_dataset/train.csv'\n",
        "out_test <- 'oxygen_dataset/test.csv'"
      ],
      "metadata": {
        "id": "XGNNOL6UuA4W"
      },
      "execution_count": 55,
      "outputs": []
    },
    {
      "cell_type": "code",
      "source": [
        "# Function to create the directory if it doesn't exist\n",
        "create_directory_if_not_exists <- function(path) {\n",
        "  directory <- dirname(path)\n",
        "  dir.create(directory, recursive = TRUE, showWarnings = FALSE)\n",
        "}\n",
        "\n",
        "# Save function to be used for both train and test datasets\n",
        "save_dataset <- function(dataset, path_to_save) {\n",
        "  create_directory_if_not_exists(path_to_save)\n",
        "  write.csv(dataset, file = path_to_save, row.names = FALSE)\n",
        "}\n",
        "\n",
        "# Save train dataset\n",
        "save_dataset(normalized_train, out_train)\n",
        "\n",
        "# Save test dataset\n",
        "save_dataset(normalized_test, out_test)"
      ],
      "metadata": {
        "id": "FeDhMqhVS83g"
      },
      "execution_count": 56,
      "outputs": []
    }
  ]
}